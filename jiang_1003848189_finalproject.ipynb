{
  "cells": [
    {
      "cell_type": "code",
      "execution_count": null,
      "metadata": {
        "colab": {
          "base_uri": "https://localhost:8080/"
        },
        "id": "01eedc68",
        "outputId": "d902b4f1-2d5a-4882-da04-8b82ec061456"
      },
      "outputs": [
        {
          "output_type": "stream",
          "name": "stdout",
          "text": [
            "[nltk_data] Downloading package stopwords to /root/nltk_data...\n",
            "[nltk_data]   Package stopwords is already up-to-date!\n",
            "[nltk_data] Downloading package punkt to /root/nltk_data...\n",
            "[nltk_data]   Package punkt is already up-to-date!\n"
          ]
        }
      ],
      "source": [
        "import pandas as pd\n",
        "import numpy as np\n",
        "import matplotlib.pyplot as plt\n",
        "import seaborn as sns\n",
        "import re\n",
        "import string\n",
        "import nltk\n",
        "nltk.download('stopwords')\n",
        "nltk.download('punkt')\n",
        "from nltk.corpus import stopwords\n",
        "from nltk.tokenize import word_tokenize\n",
        "# string.punctuation\n",
        "from sklearn.model_selection import train_test_split\n",
        "from sklearn.feature_extraction.text import TfidfVectorizer,CountVectorizer\n",
        "from sklearn.metrics import accuracy_score\n",
        "from sklearn.metrics import precision_score\n",
        "from sklearn.metrics import recall_score\n",
        "from sklearn.linear_model import LogisticRegression\n",
        "from sklearn.neighbors import KNeighborsClassifier\n",
        "from sklearn.naive_bayes import MultinomialNB\n",
        "from sklearn.svm import LinearSVC\n",
        "from sklearn.tree import DecisionTreeClassifier\n",
        "from sklearn.ensemble import RandomForestClassifier\n",
        "from xgboost import XGBClassifier\n",
        "\n",
        "from numpy.random import seed\n",
        "\n",
        "import tensorflow\n",
        "\n",
        "from tensorflow.keras.preprocessing.text import Tokenizer\n",
        "from keras.preprocessing import sequence\n",
        "from tensorflow.keras.models import Sequential\n",
        "from tensorflow.keras.layers import Dense, Embedding, LSTM, SimpleRNN\n",
        "from tensorflow.keras.optimizers import Adam\n",
        "from tensorflow.sparse import SparseTensor, reorder, to_dense\n",
        "\n",
        "from sklearn.preprocessing import LabelEncoder\n",
        "from sklearn.model_selection import GridSearchCV\n",
        "from sklearn.metrics import classification_report, confusion_matrix\n",
        "\n",
        "import warnings\n",
        "warnings.filterwarnings(\"ignore\")"
      ],
      "id": "01eedc68"
    },
    {
      "cell_type": "code",
      "execution_count": null,
      "metadata": {
        "id": "f3608c8c"
      },
      "outputs": [],
      "source": [
        "pd.set_option('display.max_colwidth', None)\n",
        "df_sa = pd.read_csv('sentiment_analysis.csv',engine='python', error_bad_lines=False)\n",
        "df_ce = pd.read_csv('Canadian_elections_2021.csv',engine='python', error_bad_lines=False)"
      ],
      "id": "f3608c8c"
    },
    {
      "cell_type": "markdown",
      "metadata": {
        "id": "64ca5f49"
      },
      "source": [
        "## 1. Data Cleaning"
      ],
      "id": "64ca5f49"
    },
    {
      "cell_type": "code",
      "execution_count": null,
      "metadata": {
        "id": "205d5b15"
      },
      "outputs": [],
      "source": [
        "## Remove emoji\n",
        "df_sa = df_sa.astype(str).apply(lambda x: x.str.encode('ascii', 'ignore').str.decode('ascii'))\n",
        "df_ce = df_ce.astype(str).apply(lambda x: x.str.encode('ascii', 'ignore').str.decode('ascii'))"
      ],
      "id": "205d5b15"
    },
    {
      "cell_type": "code",
      "execution_count": null,
      "metadata": {
        "colab": {
          "base_uri": "https://localhost:8080/"
        },
        "id": "d473444e",
        "outputId": "76e4f3e3-d3de-41ce-cc9b-4ae35ffad0c6"
      },
      "outputs": [
        {
          "output_type": "stream",
          "name": "stdout",
          "text": [
            "The length of stopwords list is: 178\n"
          ]
        }
      ],
      "source": [
        "stop_words = stopwords.words('english')\n",
        "sno = nltk.stem.SnowballStemmer('english')\n",
        "remove_list = ['against','no','not']\n",
        "stop_words = [ elem for elem in stop_words if elem not in remove_list]\n",
        "stop_words.append('u')\n",
        "stop_words.append('amp')\n",
        "print(\"The length of stopwords list is:\", len(stop_words))"
      ],
      "id": "d473444e"
    },
    {
      "cell_type": "code",
      "execution_count": null,
      "metadata": {
        "id": "ee49e754"
      },
      "outputs": [],
      "source": [
        "def data_cleaning(text):\n",
        "    # Remove URLS\n",
        "    text = re.sub(r\" http\\S+\", \"\", text)\n",
        "    # Remove the 'Reply To' part\n",
        "    text = re.sub(\"RT @[A-Za-z0-9_]+: \",\"\", text)\n",
        "    # Lowercases\n",
        "    text = text.lower()\n",
        "    # Replace all \"'t\" to not\n",
        "    text = re.sub(r\"\\'t\", \"not\", text)\n",
        "    \n",
        "    return text \n",
        "\n",
        "def remove_pun(text):\n",
        "    # Remove punctuations\n",
        "    text = re.sub(r\"[^\\w\\s]\", ' ', text)\n",
        "    \n",
        "    return text\n",
        "\n",
        "def remove_stopwords(text):\n",
        "    # Remove Stopwords\n",
        "    word_tokens = word_tokenize(text) \n",
        "    \n",
        "    filtered_sentence = [] \n",
        "  \n",
        "    for w in word_tokens: \n",
        "        if w not in stop_words: \n",
        "            filtered_sentence.append(w) \n",
        "    \n",
        "    text = \" \".join(filtered_sentence)\n",
        "    \n",
        "    return text"
      ],
      "id": "ee49e754"
    },
    {
      "cell_type": "code",
      "execution_count": null,
      "metadata": {
        "id": "f99e0e9c",
        "scrolled": true,
        "colab": {
          "base_uri": "https://localhost:8080/",
          "height": 1000
        },
        "outputId": "c5a0f43a-b735-4962-fb09-983a0841270f"
      },
      "outputs": [
        {
          "output_type": "execute_result",
          "data": {
            "text/plain": [
              "            ID  \\\n",
              "0  7.68098e+17   \n",
              "1  7.68098e+17   \n",
              "2  7.68098e+17   \n",
              "3  7.68098e+17   \n",
              "4  7.68098e+17   \n",
              "5  7.68098e+17   \n",
              "6  7.68098e+17   \n",
              "7  7.68098e+17   \n",
              "8  7.68098e+17   \n",
              "9  7.68098e+17   \n",
              "\n",
              "                                                                                                                                              text  \\\n",
              "0                               Josh Jenkins is looking forward to TAB Breeders Crown Super Sunday https://t.co/antImqAo4Y https://t.co/ejnA78Sks0   \n",
              "1      RT @MianUsmanJaved: Congratulations Pakistan on becoming #No1TestTeam in the world against all odds! #JI_PakZindabadRallies https://t.co/1o   \n",
              "2       RT @PEPalerts: This September, @YESmag is taking you to Maine Mendozas surprise thanksgiving party she threw for her fans! https://t.co/oX   \n",
              "3       RT @david_gaibis: Newly painted walls, thanks a million to our custodial painters this summer.  Great job ladies!!!#EC_proud https://t.co/   \n",
              "4               RT @CedricFeschotte: Excited to announce: as of July 2017 Feschotte lab will be relocating to @Cornell MBG https://t.co/dd0FG7BRx3   \n",
              "5                                                                  RT @SH4WNSMILE: -Who is excited for illuminate !? -.... https://t.co/AKnIVEGUOe   \n",
              "6  RT @KendallHuntRPD: The #firstdayofschool for students &amp; teachers. Good luck and have a Successful 2016-17 School Year #EducationMatters ht   \n",
              "7                                    RT @BantySrkian: #SRK and kajol in the making of DDLJ song .. Both are greatest ever  https://t.co/Aa7fAvvtNE   \n",
              "8                                                                                            RT @GayHopper_com: I'm happy! https://t.co/fKXbN3Zhtd   \n",
              "9      RT @StarCinema: Kathryn, Daniel share memorable experience in Barcelona SEE INTERVIEW HERE: https://t.co/Vub69JTdKL https://t.co/NntyQWs7To   \n",
              "\n",
              "  label  \\\n",
              "0     1   \n",
              "1     1   \n",
              "2     1   \n",
              "3     1   \n",
              "4     1   \n",
              "5     1   \n",
              "6     1   \n",
              "7     1   \n",
              "8     1   \n",
              "9     1   \n",
              "\n",
              "                                                                                      text_cleaned  \n",
              "0                                     josh jenkins looking forward tab breeders crown super sunday  \n",
              "1           congratulations pakistan becoming no1testteam world against odds ji_pakzindabadrallies  \n",
              "2                    september yesmag taking maine mendozas surprise thanksgiving party threw fans  \n",
              "3           newly painted walls thanks million custodial painters summer great job ladies ec_proud  \n",
              "4                                  excited announce july 2017 feschotte lab relocating cornell mbg  \n",
              "5                                                                               excited illuminate  \n",
              "6  firstdayofschool students teachers good luck successful 2016 17 school year educationmatters ht  \n",
              "7                                                         srk kajol making ddlj song greatest ever  \n",
              "8                                                                                            happy  \n",
              "9                                kathryn daniel share memorable experience barcelona see interview  "
            ],
            "text/html": [
              "\n",
              "  <div id=\"df-0aed3e20-675f-468d-93cb-8fd4294ac211\">\n",
              "    <div class=\"colab-df-container\">\n",
              "      <div>\n",
              "<style scoped>\n",
              "    .dataframe tbody tr th:only-of-type {\n",
              "        vertical-align: middle;\n",
              "    }\n",
              "\n",
              "    .dataframe tbody tr th {\n",
              "        vertical-align: top;\n",
              "    }\n",
              "\n",
              "    .dataframe thead th {\n",
              "        text-align: right;\n",
              "    }\n",
              "</style>\n",
              "<table border=\"1\" class=\"dataframe\">\n",
              "  <thead>\n",
              "    <tr style=\"text-align: right;\">\n",
              "      <th></th>\n",
              "      <th>ID</th>\n",
              "      <th>text</th>\n",
              "      <th>label</th>\n",
              "      <th>text_cleaned</th>\n",
              "    </tr>\n",
              "  </thead>\n",
              "  <tbody>\n",
              "    <tr>\n",
              "      <th>0</th>\n",
              "      <td>7.68098e+17</td>\n",
              "      <td>Josh Jenkins is looking forward to TAB Breeders Crown Super Sunday https://t.co/antImqAo4Y https://t.co/ejnA78Sks0</td>\n",
              "      <td>1</td>\n",
              "      <td>josh jenkins looking forward tab breeders crown super sunday</td>\n",
              "    </tr>\n",
              "    <tr>\n",
              "      <th>1</th>\n",
              "      <td>7.68098e+17</td>\n",
              "      <td>RT @MianUsmanJaved: Congratulations Pakistan on becoming #No1TestTeam in the world against all odds! #JI_PakZindabadRallies https://t.co/1o</td>\n",
              "      <td>1</td>\n",
              "      <td>congratulations pakistan becoming no1testteam world against odds ji_pakzindabadrallies</td>\n",
              "    </tr>\n",
              "    <tr>\n",
              "      <th>2</th>\n",
              "      <td>7.68098e+17</td>\n",
              "      <td>RT @PEPalerts: This September, @YESmag is taking you to Maine Mendozas surprise thanksgiving party she threw for her fans! https://t.co/oX</td>\n",
              "      <td>1</td>\n",
              "      <td>september yesmag taking maine mendozas surprise thanksgiving party threw fans</td>\n",
              "    </tr>\n",
              "    <tr>\n",
              "      <th>3</th>\n",
              "      <td>7.68098e+17</td>\n",
              "      <td>RT @david_gaibis: Newly painted walls, thanks a million to our custodial painters this summer.  Great job ladies!!!#EC_proud https://t.co/</td>\n",
              "      <td>1</td>\n",
              "      <td>newly painted walls thanks million custodial painters summer great job ladies ec_proud</td>\n",
              "    </tr>\n",
              "    <tr>\n",
              "      <th>4</th>\n",
              "      <td>7.68098e+17</td>\n",
              "      <td>RT @CedricFeschotte: Excited to announce: as of July 2017 Feschotte lab will be relocating to @Cornell MBG https://t.co/dd0FG7BRx3</td>\n",
              "      <td>1</td>\n",
              "      <td>excited announce july 2017 feschotte lab relocating cornell mbg</td>\n",
              "    </tr>\n",
              "    <tr>\n",
              "      <th>5</th>\n",
              "      <td>7.68098e+17</td>\n",
              "      <td>RT @SH4WNSMILE: -Who is excited for illuminate !? -.... https://t.co/AKnIVEGUOe</td>\n",
              "      <td>1</td>\n",
              "      <td>excited illuminate</td>\n",
              "    </tr>\n",
              "    <tr>\n",
              "      <th>6</th>\n",
              "      <td>7.68098e+17</td>\n",
              "      <td>RT @KendallHuntRPD: The #firstdayofschool for students &amp;amp; teachers. Good luck and have a Successful 2016-17 School Year #EducationMatters ht</td>\n",
              "      <td>1</td>\n",
              "      <td>firstdayofschool students teachers good luck successful 2016 17 school year educationmatters ht</td>\n",
              "    </tr>\n",
              "    <tr>\n",
              "      <th>7</th>\n",
              "      <td>7.68098e+17</td>\n",
              "      <td>RT @BantySrkian: #SRK and kajol in the making of DDLJ song .. Both are greatest ever  https://t.co/Aa7fAvvtNE</td>\n",
              "      <td>1</td>\n",
              "      <td>srk kajol making ddlj song greatest ever</td>\n",
              "    </tr>\n",
              "    <tr>\n",
              "      <th>8</th>\n",
              "      <td>7.68098e+17</td>\n",
              "      <td>RT @GayHopper_com: I'm happy! https://t.co/fKXbN3Zhtd</td>\n",
              "      <td>1</td>\n",
              "      <td>happy</td>\n",
              "    </tr>\n",
              "    <tr>\n",
              "      <th>9</th>\n",
              "      <td>7.68098e+17</td>\n",
              "      <td>RT @StarCinema: Kathryn, Daniel share memorable experience in Barcelona SEE INTERVIEW HERE: https://t.co/Vub69JTdKL https://t.co/NntyQWs7To</td>\n",
              "      <td>1</td>\n",
              "      <td>kathryn daniel share memorable experience barcelona see interview</td>\n",
              "    </tr>\n",
              "  </tbody>\n",
              "</table>\n",
              "</div>\n",
              "      <button class=\"colab-df-convert\" onclick=\"convertToInteractive('df-0aed3e20-675f-468d-93cb-8fd4294ac211')\"\n",
              "              title=\"Convert this dataframe to an interactive table.\"\n",
              "              style=\"display:none;\">\n",
              "        \n",
              "  <svg xmlns=\"http://www.w3.org/2000/svg\" height=\"24px\"viewBox=\"0 0 24 24\"\n",
              "       width=\"24px\">\n",
              "    <path d=\"M0 0h24v24H0V0z\" fill=\"none\"/>\n",
              "    <path d=\"M18.56 5.44l.94 2.06.94-2.06 2.06-.94-2.06-.94-.94-2.06-.94 2.06-2.06.94zm-11 1L8.5 8.5l.94-2.06 2.06-.94-2.06-.94L8.5 2.5l-.94 2.06-2.06.94zm10 10l.94 2.06.94-2.06 2.06-.94-2.06-.94-.94-2.06-.94 2.06-2.06.94z\"/><path d=\"M17.41 7.96l-1.37-1.37c-.4-.4-.92-.59-1.43-.59-.52 0-1.04.2-1.43.59L10.3 9.45l-7.72 7.72c-.78.78-.78 2.05 0 2.83L4 21.41c.39.39.9.59 1.41.59.51 0 1.02-.2 1.41-.59l7.78-7.78 2.81-2.81c.8-.78.8-2.07 0-2.86zM5.41 20L4 18.59l7.72-7.72 1.47 1.35L5.41 20z\"/>\n",
              "  </svg>\n",
              "      </button>\n",
              "      \n",
              "  <style>\n",
              "    .colab-df-container {\n",
              "      display:flex;\n",
              "      flex-wrap:wrap;\n",
              "      gap: 12px;\n",
              "    }\n",
              "\n",
              "    .colab-df-convert {\n",
              "      background-color: #E8F0FE;\n",
              "      border: none;\n",
              "      border-radius: 50%;\n",
              "      cursor: pointer;\n",
              "      display: none;\n",
              "      fill: #1967D2;\n",
              "      height: 32px;\n",
              "      padding: 0 0 0 0;\n",
              "      width: 32px;\n",
              "    }\n",
              "\n",
              "    .colab-df-convert:hover {\n",
              "      background-color: #E2EBFA;\n",
              "      box-shadow: 0px 1px 2px rgba(60, 64, 67, 0.3), 0px 1px 3px 1px rgba(60, 64, 67, 0.15);\n",
              "      fill: #174EA6;\n",
              "    }\n",
              "\n",
              "    [theme=dark] .colab-df-convert {\n",
              "      background-color: #3B4455;\n",
              "      fill: #D2E3FC;\n",
              "    }\n",
              "\n",
              "    [theme=dark] .colab-df-convert:hover {\n",
              "      background-color: #434B5C;\n",
              "      box-shadow: 0px 1px 3px 1px rgba(0, 0, 0, 0.15);\n",
              "      filter: drop-shadow(0px 1px 2px rgba(0, 0, 0, 0.3));\n",
              "      fill: #FFFFFF;\n",
              "    }\n",
              "  </style>\n",
              "\n",
              "      <script>\n",
              "        const buttonEl =\n",
              "          document.querySelector('#df-0aed3e20-675f-468d-93cb-8fd4294ac211 button.colab-df-convert');\n",
              "        buttonEl.style.display =\n",
              "          google.colab.kernel.accessAllowed ? 'block' : 'none';\n",
              "\n",
              "        async function convertToInteractive(key) {\n",
              "          const element = document.querySelector('#df-0aed3e20-675f-468d-93cb-8fd4294ac211');\n",
              "          const dataTable =\n",
              "            await google.colab.kernel.invokeFunction('convertToInteractive',\n",
              "                                                     [key], {});\n",
              "          if (!dataTable) return;\n",
              "\n",
              "          const docLinkHtml = 'Like what you see? Visit the ' +\n",
              "            '<a target=\"_blank\" href=https://colab.research.google.com/notebooks/data_table.ipynb>data table notebook</a>'\n",
              "            + ' to learn more about interactive tables.';\n",
              "          element.innerHTML = '';\n",
              "          dataTable['output_type'] = 'display_data';\n",
              "          await google.colab.output.renderOutput(dataTable, element);\n",
              "          const docLink = document.createElement('div');\n",
              "          docLink.innerHTML = docLinkHtml;\n",
              "          element.appendChild(docLink);\n",
              "        }\n",
              "      </script>\n",
              "    </div>\n",
              "  </div>\n",
              "  "
            ]
          },
          "metadata": {},
          "execution_count": 6
        }
      ],
      "source": [
        "df_sa['text_cleaned'] = df_sa['text'].apply(lambda x: data_cleaning(x))\n",
        "df_sa['text_cleaned'] = df_sa['text_cleaned'].apply(lambda x: remove_pun(x))\n",
        "df_sa['text_cleaned'] = df_sa['text_cleaned'].apply(lambda x: remove_stopwords(x))\n",
        "df_sa.head(10)"
      ],
      "id": "f99e0e9c"
    },
    {
      "cell_type": "code",
      "execution_count": null,
      "metadata": {
        "id": "2e027886",
        "scrolled": true,
        "colab": {
          "base_uri": "https://localhost:8080/",
          "height": 1000
        },
        "outputId": "ab9d2c4d-8ea5-401c-f7f6-80d51baec53e"
      },
      "outputs": [
        {
          "output_type": "execute_result",
          "data": {
            "text/plain": [
              "                                                                                                                                                                                                                                                                                               text  \\\n",
              "0             The Canadian election is a power grab by PM Trudeau, yes -- to take it away from the opposition leaders who have chosen obstruction (20 non-confidence motions) and disinformation in the middle of a worldwide pandemic. Yes, no one wanted a vote; the opposition antics forced it.   \n",
              "1                  I do hope Trudeau loses the Canadian election tomorrow , called a snap one thinking hed romp it.. Seems the people there dont like a Black face hypocrite, super wokist &amp; COVID restriction groupie..  Lets hope the polls are right, might make our Government think again.   \n",
              "2         Dear Canadians, This election is a test of how progressive we are. Whether we stand by science, womens and BIPOC rights, equality, public healthcare &amp; education, the environment. Whether we stand up against hate. We have so much to lose. Dont let us fall back. #cdnpoli #elxn44   \n",
              "3          Canadian friends: Never forget that Trudeau had 2 more years on his mandate + called a completely unnecessary election right when vaccine mandates were being rolled out - a moment of extreme political volatility. He gambled the country all so he could be less accountable. #Elxn44   \n",
              "4                    Sorry @theJagmeetSingh I have voted #NDP all my life but in this election I am fighting for my freedoms as a Canadian. I voted last Saturday for @MaxineBernier of the @peoplespca #ppc #VotePPC2021 #VoteForHumanRights #voteforfreedom #maximebernier #PurpleReign #freedom    \n",
              "5  Vaccines &amp; guns are key this election because O'Toole has no serious plan to get all Canadians vaccinated (he can't even get his candidates vaccinated) &amp; he is playing games on guns so he can deliver for the fun lobby.  But many Canadians (and for me), climate is the issue. So...   \n",
              "6                      Im sorry, moderators can respond but leadership candidates cant?   This debate is a farce and frankly a disservice to Canadians, and after the awful 2019 formats I hope the next election we see new moderation format. Theyve had two goes, thats enough. #elxn44 #cdnpoli   \n",
              "7            I have to say this. I've been skeptical and critical of mainstream Canadian journalism, but I have never seen this level of trying to choose the winner/influence the outcome of an election as I have with this one. I feel objectivity is a lost art for many in #cdnmedia. #cdnpoli   \n",
              "8          If Canadians #VotePPC and support @MaximeBernier that would be a blow to the UN and the Globalists and The Great Reset and Agenda 2030!  It could also be a catalyst for freedom that countries around the world (including the US) would respond too!  This election is that important!   \n",
              "9              Justin Trudeau literally had rocks thrown at him yet continued showing &amp; answered questions during an election campaign.  Erin OToole? Hiding from the media the day before an election because he doesnt want to answer to the legitimate concerns that Canadians have. #elxn44   \n",
              "\n",
              "  sentiment         negative_reason  \\\n",
              "0  negative  calling election early   \n",
              "1  negative                  covid    \n",
              "2  positive                     nan   \n",
              "3  negative  calling election early   \n",
              "4  positive                     nan   \n",
              "5  negative                  covid    \n",
              "6  negative                  others   \n",
              "7  negative                  others   \n",
              "8  positive                     nan   \n",
              "9  positive                     nan   \n",
              "\n",
              "                                                                                                                                                                                                           text_cleaned  \n",
              "0        canadian election power grab pm trudeau yes take away opposition leaders chosen obstruction 20 non confidence motions disinformation middle worldwide pandemic yes no one wanted vote opposition antics forced  \n",
              "1  hope trudeau loses canadian election tomorrow called snap one thinking hed romp seems people dont like black face hypocrite super wokist covid restriction groupie lets hope polls right might make government think  \n",
              "2         dear canadians election test progressive whether stand science womens bipoc rights equality public healthcare education environment whether stand against hate much lose dont let us fall back cdnpoli elxn44  \n",
              "3          canadian friends never forget trudeau 2 years mandate called completely unnecessary election right vaccine mandates rolled moment extreme political volatility gambled country could less accountable elxn44  \n",
              "4             sorry thejagmeetsingh voted ndp life election fighting freedoms canadian voted last saturday maxinebernier peoplespca ppc voteppc2021 voteforhumanrights voteforfreedom maximebernier purplereign freedom  \n",
              "5                                     vaccines guns key election onotoole no serious plan get canadians vaccinated not even get candidates vaccinated playing games guns deliver fun lobby many canadians climate issue  \n",
              "6          im sorry moderators respond leadership candidates cant debate farce frankly disservice canadians awful 2019 formats hope next election see new moderation format theyve two goes thats enough elxn44 cdnpoli  \n",
              "7                                            say skeptical critical mainstream canadian journalism never seen level trying choose winner influence outcome election one feel objectivity lost art many cdnmedia cdnpoli  \n",
              "8                             canadians voteppc support maximebernier would blow un globalists great reset agenda 2030 could also catalyst freedom countries around world including us would respond election important  \n",
              "9                        justin trudeau literally rocks thrown yet continued showing answered questions election campaign erin otoole hiding media day election doesnt want answer legitimate concerns canadians elxn44  "
            ],
            "text/html": [
              "\n",
              "  <div id=\"df-8137754f-1b33-42c9-800d-8aa64b044eff\">\n",
              "    <div class=\"colab-df-container\">\n",
              "      <div>\n",
              "<style scoped>\n",
              "    .dataframe tbody tr th:only-of-type {\n",
              "        vertical-align: middle;\n",
              "    }\n",
              "\n",
              "    .dataframe tbody tr th {\n",
              "        vertical-align: top;\n",
              "    }\n",
              "\n",
              "    .dataframe thead th {\n",
              "        text-align: right;\n",
              "    }\n",
              "</style>\n",
              "<table border=\"1\" class=\"dataframe\">\n",
              "  <thead>\n",
              "    <tr style=\"text-align: right;\">\n",
              "      <th></th>\n",
              "      <th>text</th>\n",
              "      <th>sentiment</th>\n",
              "      <th>negative_reason</th>\n",
              "      <th>text_cleaned</th>\n",
              "    </tr>\n",
              "  </thead>\n",
              "  <tbody>\n",
              "    <tr>\n",
              "      <th>0</th>\n",
              "      <td>The Canadian election is a power grab by PM Trudeau, yes -- to take it away from the opposition leaders who have chosen obstruction (20 non-confidence motions) and disinformation in the middle of a worldwide pandemic. Yes, no one wanted a vote; the opposition antics forced it.</td>\n",
              "      <td>negative</td>\n",
              "      <td>calling election early</td>\n",
              "      <td>canadian election power grab pm trudeau yes take away opposition leaders chosen obstruction 20 non confidence motions disinformation middle worldwide pandemic yes no one wanted vote opposition antics forced</td>\n",
              "    </tr>\n",
              "    <tr>\n",
              "      <th>1</th>\n",
              "      <td>I do hope Trudeau loses the Canadian election tomorrow , called a snap one thinking hed romp it.. Seems the people there dont like a Black face hypocrite, super wokist &amp;amp; COVID restriction groupie..  Lets hope the polls are right, might make our Government think again.</td>\n",
              "      <td>negative</td>\n",
              "      <td>covid</td>\n",
              "      <td>hope trudeau loses canadian election tomorrow called snap one thinking hed romp seems people dont like black face hypocrite super wokist covid restriction groupie lets hope polls right might make government think</td>\n",
              "    </tr>\n",
              "    <tr>\n",
              "      <th>2</th>\n",
              "      <td>Dear Canadians, This election is a test of how progressive we are. Whether we stand by science, womens and BIPOC rights, equality, public healthcare &amp;amp; education, the environment. Whether we stand up against hate. We have so much to lose. Dont let us fall back. #cdnpoli #elxn44</td>\n",
              "      <td>positive</td>\n",
              "      <td>nan</td>\n",
              "      <td>dear canadians election test progressive whether stand science womens bipoc rights equality public healthcare education environment whether stand against hate much lose dont let us fall back cdnpoli elxn44</td>\n",
              "    </tr>\n",
              "    <tr>\n",
              "      <th>3</th>\n",
              "      <td>Canadian friends: Never forget that Trudeau had 2 more years on his mandate + called a completely unnecessary election right when vaccine mandates were being rolled out - a moment of extreme political volatility. He gambled the country all so he could be less accountable. #Elxn44</td>\n",
              "      <td>negative</td>\n",
              "      <td>calling election early</td>\n",
              "      <td>canadian friends never forget trudeau 2 years mandate called completely unnecessary election right vaccine mandates rolled moment extreme political volatility gambled country could less accountable elxn44</td>\n",
              "    </tr>\n",
              "    <tr>\n",
              "      <th>4</th>\n",
              "      <td>Sorry @theJagmeetSingh I have voted #NDP all my life but in this election I am fighting for my freedoms as a Canadian. I voted last Saturday for @MaxineBernier of the @peoplespca #ppc #VotePPC2021 #VoteForHumanRights #voteforfreedom #maximebernier #PurpleReign #freedom</td>\n",
              "      <td>positive</td>\n",
              "      <td>nan</td>\n",
              "      <td>sorry thejagmeetsingh voted ndp life election fighting freedoms canadian voted last saturday maxinebernier peoplespca ppc voteppc2021 voteforhumanrights voteforfreedom maximebernier purplereign freedom</td>\n",
              "    </tr>\n",
              "    <tr>\n",
              "      <th>5</th>\n",
              "      <td>Vaccines &amp;amp; guns are key this election because O'Toole has no serious plan to get all Canadians vaccinated (he can't even get his candidates vaccinated) &amp;amp; he is playing games on guns so he can deliver for the fun lobby.  But many Canadians (and for me), climate is the issue. So...</td>\n",
              "      <td>negative</td>\n",
              "      <td>covid</td>\n",
              "      <td>vaccines guns key election onotoole no serious plan get canadians vaccinated not even get candidates vaccinated playing games guns deliver fun lobby many canadians climate issue</td>\n",
              "    </tr>\n",
              "    <tr>\n",
              "      <th>6</th>\n",
              "      <td>Im sorry, moderators can respond but leadership candidates cant?   This debate is a farce and frankly a disservice to Canadians, and after the awful 2019 formats I hope the next election we see new moderation format. Theyve had two goes, thats enough. #elxn44 #cdnpoli</td>\n",
              "      <td>negative</td>\n",
              "      <td>others</td>\n",
              "      <td>im sorry moderators respond leadership candidates cant debate farce frankly disservice canadians awful 2019 formats hope next election see new moderation format theyve two goes thats enough elxn44 cdnpoli</td>\n",
              "    </tr>\n",
              "    <tr>\n",
              "      <th>7</th>\n",
              "      <td>I have to say this. I've been skeptical and critical of mainstream Canadian journalism, but I have never seen this level of trying to choose the winner/influence the outcome of an election as I have with this one. I feel objectivity is a lost art for many in #cdnmedia. #cdnpoli</td>\n",
              "      <td>negative</td>\n",
              "      <td>others</td>\n",
              "      <td>say skeptical critical mainstream canadian journalism never seen level trying choose winner influence outcome election one feel objectivity lost art many cdnmedia cdnpoli</td>\n",
              "    </tr>\n",
              "    <tr>\n",
              "      <th>8</th>\n",
              "      <td>If Canadians #VotePPC and support @MaximeBernier that would be a blow to the UN and the Globalists and The Great Reset and Agenda 2030!  It could also be a catalyst for freedom that countries around the world (including the US) would respond too!  This election is that important!</td>\n",
              "      <td>positive</td>\n",
              "      <td>nan</td>\n",
              "      <td>canadians voteppc support maximebernier would blow un globalists great reset agenda 2030 could also catalyst freedom countries around world including us would respond election important</td>\n",
              "    </tr>\n",
              "    <tr>\n",
              "      <th>9</th>\n",
              "      <td>Justin Trudeau literally had rocks thrown at him yet continued showing &amp;amp; answered questions during an election campaign.  Erin OToole? Hiding from the media the day before an election because he doesnt want to answer to the legitimate concerns that Canadians have. #elxn44</td>\n",
              "      <td>positive</td>\n",
              "      <td>nan</td>\n",
              "      <td>justin trudeau literally rocks thrown yet continued showing answered questions election campaign erin otoole hiding media day election doesnt want answer legitimate concerns canadians elxn44</td>\n",
              "    </tr>\n",
              "  </tbody>\n",
              "</table>\n",
              "</div>\n",
              "      <button class=\"colab-df-convert\" onclick=\"convertToInteractive('df-8137754f-1b33-42c9-800d-8aa64b044eff')\"\n",
              "              title=\"Convert this dataframe to an interactive table.\"\n",
              "              style=\"display:none;\">\n",
              "        \n",
              "  <svg xmlns=\"http://www.w3.org/2000/svg\" height=\"24px\"viewBox=\"0 0 24 24\"\n",
              "       width=\"24px\">\n",
              "    <path d=\"M0 0h24v24H0V0z\" fill=\"none\"/>\n",
              "    <path d=\"M18.56 5.44l.94 2.06.94-2.06 2.06-.94-2.06-.94-.94-2.06-.94 2.06-2.06.94zm-11 1L8.5 8.5l.94-2.06 2.06-.94-2.06-.94L8.5 2.5l-.94 2.06-2.06.94zm10 10l.94 2.06.94-2.06 2.06-.94-2.06-.94-.94-2.06-.94 2.06-2.06.94z\"/><path d=\"M17.41 7.96l-1.37-1.37c-.4-.4-.92-.59-1.43-.59-.52 0-1.04.2-1.43.59L10.3 9.45l-7.72 7.72c-.78.78-.78 2.05 0 2.83L4 21.41c.39.39.9.59 1.41.59.51 0 1.02-.2 1.41-.59l7.78-7.78 2.81-2.81c.8-.78.8-2.07 0-2.86zM5.41 20L4 18.59l7.72-7.72 1.47 1.35L5.41 20z\"/>\n",
              "  </svg>\n",
              "      </button>\n",
              "      \n",
              "  <style>\n",
              "    .colab-df-container {\n",
              "      display:flex;\n",
              "      flex-wrap:wrap;\n",
              "      gap: 12px;\n",
              "    }\n",
              "\n",
              "    .colab-df-convert {\n",
              "      background-color: #E8F0FE;\n",
              "      border: none;\n",
              "      border-radius: 50%;\n",
              "      cursor: pointer;\n",
              "      display: none;\n",
              "      fill: #1967D2;\n",
              "      height: 32px;\n",
              "      padding: 0 0 0 0;\n",
              "      width: 32px;\n",
              "    }\n",
              "\n",
              "    .colab-df-convert:hover {\n",
              "      background-color: #E2EBFA;\n",
              "      box-shadow: 0px 1px 2px rgba(60, 64, 67, 0.3), 0px 1px 3px 1px rgba(60, 64, 67, 0.15);\n",
              "      fill: #174EA6;\n",
              "    }\n",
              "\n",
              "    [theme=dark] .colab-df-convert {\n",
              "      background-color: #3B4455;\n",
              "      fill: #D2E3FC;\n",
              "    }\n",
              "\n",
              "    [theme=dark] .colab-df-convert:hover {\n",
              "      background-color: #434B5C;\n",
              "      box-shadow: 0px 1px 3px 1px rgba(0, 0, 0, 0.15);\n",
              "      filter: drop-shadow(0px 1px 2px rgba(0, 0, 0, 0.3));\n",
              "      fill: #FFFFFF;\n",
              "    }\n",
              "  </style>\n",
              "\n",
              "      <script>\n",
              "        const buttonEl =\n",
              "          document.querySelector('#df-8137754f-1b33-42c9-800d-8aa64b044eff button.colab-df-convert');\n",
              "        buttonEl.style.display =\n",
              "          google.colab.kernel.accessAllowed ? 'block' : 'none';\n",
              "\n",
              "        async function convertToInteractive(key) {\n",
              "          const element = document.querySelector('#df-8137754f-1b33-42c9-800d-8aa64b044eff');\n",
              "          const dataTable =\n",
              "            await google.colab.kernel.invokeFunction('convertToInteractive',\n",
              "                                                     [key], {});\n",
              "          if (!dataTable) return;\n",
              "\n",
              "          const docLinkHtml = 'Like what you see? Visit the ' +\n",
              "            '<a target=\"_blank\" href=https://colab.research.google.com/notebooks/data_table.ipynb>data table notebook</a>'\n",
              "            + ' to learn more about interactive tables.';\n",
              "          element.innerHTML = '';\n",
              "          dataTable['output_type'] = 'display_data';\n",
              "          await google.colab.output.renderOutput(dataTable, element);\n",
              "          const docLink = document.createElement('div');\n",
              "          docLink.innerHTML = docLinkHtml;\n",
              "          element.appendChild(docLink);\n",
              "        }\n",
              "      </script>\n",
              "    </div>\n",
              "  </div>\n",
              "  "
            ]
          },
          "metadata": {},
          "execution_count": 7
        }
      ],
      "source": [
        "df_ce['text_cleaned'] = df_ce['text'].apply(lambda x: data_cleaning(x))\n",
        "df_ce['text_cleaned'] = df_ce['text_cleaned'].apply(lambda x: remove_pun(x))\n",
        "df_ce['text_cleaned'] = df_ce['text_cleaned'].apply(lambda x: remove_stopwords(x))\n",
        "df_ce.head(10)"
      ],
      "id": "2e027886"
    },
    {
      "cell_type": "markdown",
      "metadata": {
        "id": "ac3668d7"
      },
      "source": [
        "## 2. Exploratory Analysis"
      ],
      "id": "ac3668d7"
    },
    {
      "cell_type": "markdown",
      "source": [
        "### Determine the Political Party"
      ],
      "metadata": {
        "id": "fOS-OMIxrj1Q"
      },
      "id": "fOS-OMIxrj1Q"
    },
    {
      "cell_type": "code",
      "execution_count": null,
      "metadata": {
        "id": "7dee2aba"
      },
      "outputs": [],
      "source": [
        "# Dictionary contain hashtags show clear preference\n",
        "hashtag_dict = {'Liberal': ['voteliberal','istandwithtrudeau','forwardforeveryone','voteliberalmajority',\n",
        "                  'liberalmajority','teamtrudeau','trudeaumajority','vote liberal'],\n",
        "                'Conservative': ['otoole4pm','otooleforpm','votecpc4canada','voteconservative',\n",
        "                        'votecpc','vote cpc'],\n",
        "                'NDP': ['teamjagmeet','teamsingh','votendp','readyforbetter','orangeteam',\n",
        "               'ndp2021','vote ndp'],\n",
        "                'PPC': ['voteppc2021','purpleregion','voteppc','maximebernierforpm','purplewave',\n",
        "              'makemaxmypm','makemaxourpm','jumptoppc','vote ppc']\n",
        "               }"
      ],
      "id": "7dee2aba"
    },
    {
      "cell_type": "code",
      "execution_count": null,
      "metadata": {
        "id": "a9d02077"
      },
      "outputs": [],
      "source": [
        "# Dictionary with keywords\n",
        "keyword_dict = {'Liberal':['liberal','justin','trudeau','justintrudeau','pmjt',\n",
        "                           'lpc', 'liberal party of canada'],\n",
        "                'Conservative':['erin','otoole','onotoole','conservatives','conservative',\n",
        "                              'erinotoole','cpc','cpc_hq'],\n",
        "                'NDP':['ndp','jagmeet','jagmeetsingh','singh','thejagmeetsingh',\n",
        "                       'new democratic'],\n",
        "                'PPC':['maxime','bernier','maximebernier','peoplespca','ppc',\n",
        "                       'peoples party of canada',\n",
        "                      'pc party','jumptoppc']\n",
        "                }"
      ],
      "id": "a9d02077"
    },
    {
      "cell_type": "code",
      "execution_count": null,
      "metadata": {
        "id": "b5fba290"
      },
      "outputs": [],
      "source": [
        "def party_hashtag(text, dictionary1):\n",
        "\n",
        "    text = data_cleaning(text)\n",
        "    text = remove_pun(text)\n",
        "    text = remove_stopwords(text)\n",
        "    \n",
        "    party_dict = {'Liberal':0, 'Conservative':0, 'NDP':0, 'PPC':0}\n",
        "            \n",
        "    party_name = None\n",
        "    for key in dictionary1.keys():\n",
        "        for values in dictionary1[key]:\n",
        "            if values in text:\n",
        "                party_name = key\n",
        "    return party_name"
      ],
      "id": "b5fba290"
    },
    {
      "cell_type": "code",
      "execution_count": null,
      "metadata": {
        "id": "575f51ac"
      },
      "outputs": [],
      "source": [
        "def party(text, dictionary1, dictionary2):\n",
        "\n",
        "    text = data_cleaning(text)\n",
        "    text = remove_pun(text)\n",
        "    text = remove_stopwords(text)\n",
        "    \n",
        "    party_dict = {'Liberal':0, 'Conservative':0, 'NDP':0, 'PPC':0}\n",
        "            \n",
        "    party_name = None\n",
        "    for key in dictionary1.keys():\n",
        "        for values in dictionary1[key]:\n",
        "            if values in text:\n",
        "                party_name = key\n",
        "            else:\n",
        "                for key in dictionary2.keys():\n",
        "                    for values in dictionary2[key]:\n",
        "                        if values in text:\n",
        "                            party_dict[key]+=1\n",
        "                max_value = max(party_dict.values())\n",
        "                max_keys = [k for k,v in party_dict.items() if v == max_value]\n",
        "                if len(max_keys)==1:\n",
        "                    party_name = max_keys[0]\n",
        "            \n",
        "    return party_name"
      ],
      "id": "575f51ac"
    },
    {
      "cell_type": "code",
      "execution_count": null,
      "metadata": {
        "id": "3ddd1126"
      },
      "outputs": [],
      "source": [
        "df_ce['party'] = df_ce.loc[df_ce['sentiment']=='negative']['text'].apply(lambda x: party_hashtag(x,hashtag_dict))\n",
        "df_ce['party'] = df_ce['party'].fillna(np.nan).replace([np.nan], [None])"
      ],
      "id": "3ddd1126"
    },
    {
      "cell_type": "code",
      "execution_count": null,
      "metadata": {
        "id": "1594a5c5"
      },
      "outputs": [],
      "source": [
        "df_ce['Party'] = df_ce.loc[df_ce['sentiment']=='positive']['text'].apply(lambda x: party(x,hashtag_dict,keyword_dict))\n",
        "df_ce['Party'] = df_ce['Party'].fillna(np.nan).replace([np.nan], [None])"
      ],
      "id": "1594a5c5"
    },
    {
      "cell_type": "code",
      "execution_count": null,
      "metadata": {
        "id": "7a814613",
        "scrolled": false
      },
      "outputs": [],
      "source": [
        "df_ce['Party'].fillna(df_ce['party'], inplace=True)\n",
        "df_ce = df_ce.drop(['party'],axis=1)"
      ],
      "id": "7a814613"
    },
    {
      "cell_type": "code",
      "execution_count": null,
      "metadata": {
        "id": "5003d584",
        "colab": {
          "base_uri": "https://localhost:8080/",
          "height": 237
        },
        "outputId": "ca2ead3e-76c9-40fe-f624-25d93802b48e"
      },
      "outputs": [
        {
          "output_type": "execute_result",
          "data": {
            "text/plain": [
              "              Party\n",
              "Conservative    189\n",
              "Liberal         165\n",
              "PPC              90\n",
              "NDP              34"
            ],
            "text/html": [
              "\n",
              "  <div id=\"df-d7c3fd39-115a-45a2-8ff1-bc59ef4838ff\">\n",
              "    <div class=\"colab-df-container\">\n",
              "      <div>\n",
              "<style scoped>\n",
              "    .dataframe tbody tr th:only-of-type {\n",
              "        vertical-align: middle;\n",
              "    }\n",
              "\n",
              "    .dataframe tbody tr th {\n",
              "        vertical-align: top;\n",
              "    }\n",
              "\n",
              "    .dataframe thead th {\n",
              "        text-align: right;\n",
              "    }\n",
              "</style>\n",
              "<table border=\"1\" class=\"dataframe\">\n",
              "  <thead>\n",
              "    <tr style=\"text-align: right;\">\n",
              "      <th></th>\n",
              "      <th>Party</th>\n",
              "    </tr>\n",
              "  </thead>\n",
              "  <tbody>\n",
              "    <tr>\n",
              "      <th>Conservative</th>\n",
              "      <td>189</td>\n",
              "    </tr>\n",
              "    <tr>\n",
              "      <th>Liberal</th>\n",
              "      <td>165</td>\n",
              "    </tr>\n",
              "    <tr>\n",
              "      <th>PPC</th>\n",
              "      <td>90</td>\n",
              "    </tr>\n",
              "    <tr>\n",
              "      <th>NDP</th>\n",
              "      <td>34</td>\n",
              "    </tr>\n",
              "  </tbody>\n",
              "</table>\n",
              "</div>\n",
              "      <button class=\"colab-df-convert\" onclick=\"convertToInteractive('df-d7c3fd39-115a-45a2-8ff1-bc59ef4838ff')\"\n",
              "              title=\"Convert this dataframe to an interactive table.\"\n",
              "              style=\"display:none;\">\n",
              "        \n",
              "  <svg xmlns=\"http://www.w3.org/2000/svg\" height=\"24px\"viewBox=\"0 0 24 24\"\n",
              "       width=\"24px\">\n",
              "    <path d=\"M0 0h24v24H0V0z\" fill=\"none\"/>\n",
              "    <path d=\"M18.56 5.44l.94 2.06.94-2.06 2.06-.94-2.06-.94-.94-2.06-.94 2.06-2.06.94zm-11 1L8.5 8.5l.94-2.06 2.06-.94-2.06-.94L8.5 2.5l-.94 2.06-2.06.94zm10 10l.94 2.06.94-2.06 2.06-.94-2.06-.94-.94-2.06-.94 2.06-2.06.94z\"/><path d=\"M17.41 7.96l-1.37-1.37c-.4-.4-.92-.59-1.43-.59-.52 0-1.04.2-1.43.59L10.3 9.45l-7.72 7.72c-.78.78-.78 2.05 0 2.83L4 21.41c.39.39.9.59 1.41.59.51 0 1.02-.2 1.41-.59l7.78-7.78 2.81-2.81c.8-.78.8-2.07 0-2.86zM5.41 20L4 18.59l7.72-7.72 1.47 1.35L5.41 20z\"/>\n",
              "  </svg>\n",
              "      </button>\n",
              "      \n",
              "  <style>\n",
              "    .colab-df-container {\n",
              "      display:flex;\n",
              "      flex-wrap:wrap;\n",
              "      gap: 12px;\n",
              "    }\n",
              "\n",
              "    .colab-df-convert {\n",
              "      background-color: #E8F0FE;\n",
              "      border: none;\n",
              "      border-radius: 50%;\n",
              "      cursor: pointer;\n",
              "      display: none;\n",
              "      fill: #1967D2;\n",
              "      height: 32px;\n",
              "      padding: 0 0 0 0;\n",
              "      width: 32px;\n",
              "    }\n",
              "\n",
              "    .colab-df-convert:hover {\n",
              "      background-color: #E2EBFA;\n",
              "      box-shadow: 0px 1px 2px rgba(60, 64, 67, 0.3), 0px 1px 3px 1px rgba(60, 64, 67, 0.15);\n",
              "      fill: #174EA6;\n",
              "    }\n",
              "\n",
              "    [theme=dark] .colab-df-convert {\n",
              "      background-color: #3B4455;\n",
              "      fill: #D2E3FC;\n",
              "    }\n",
              "\n",
              "    [theme=dark] .colab-df-convert:hover {\n",
              "      background-color: #434B5C;\n",
              "      box-shadow: 0px 1px 3px 1px rgba(0, 0, 0, 0.15);\n",
              "      filter: drop-shadow(0px 1px 2px rgba(0, 0, 0, 0.3));\n",
              "      fill: #FFFFFF;\n",
              "    }\n",
              "  </style>\n",
              "\n",
              "      <script>\n",
              "        const buttonEl =\n",
              "          document.querySelector('#df-d7c3fd39-115a-45a2-8ff1-bc59ef4838ff button.colab-df-convert');\n",
              "        buttonEl.style.display =\n",
              "          google.colab.kernel.accessAllowed ? 'block' : 'none';\n",
              "\n",
              "        async function convertToInteractive(key) {\n",
              "          const element = document.querySelector('#df-d7c3fd39-115a-45a2-8ff1-bc59ef4838ff');\n",
              "          const dataTable =\n",
              "            await google.colab.kernel.invokeFunction('convertToInteractive',\n",
              "                                                     [key], {});\n",
              "          if (!dataTable) return;\n",
              "\n",
              "          const docLinkHtml = 'Like what you see? Visit the ' +\n",
              "            '<a target=\"_blank\" href=https://colab.research.google.com/notebooks/data_table.ipynb>data table notebook</a>'\n",
              "            + ' to learn more about interactive tables.';\n",
              "          element.innerHTML = '';\n",
              "          dataTable['output_type'] = 'display_data';\n",
              "          await google.colab.output.renderOutput(dataTable, element);\n",
              "          const docLink = document.createElement('div');\n",
              "          docLink.innerHTML = docLinkHtml;\n",
              "          element.appendChild(docLink);\n",
              "        }\n",
              "      </script>\n",
              "    </div>\n",
              "  </div>\n",
              "  "
            ]
          },
          "metadata": {},
          "execution_count": 15
        }
      ],
      "source": [
        "counts_party=df_ce['Party'].value_counts()\n",
        "counts_party=pd.DataFrame(counts_party)\n",
        "counts_party"
      ],
      "id": "5003d584"
    },
    {
      "cell_type": "code",
      "execution_count": null,
      "metadata": {
        "id": "4f1be344",
        "colab": {
          "base_uri": "https://localhost:8080/",
          "height": 54
        },
        "outputId": "fc4f4b6f-ff02-4050-e1c8-be39741063ab"
      },
      "outputs": [
        {
          "output_type": "display_data",
          "data": {
            "text/plain": [
              "<Figure size 576x432 with 1 Axes>"
            ],
            "image/png": "[encoded data removed]"
          },
          "metadata": {}
        }
      ],
      "source": [
        "plt.figure(figsize=(8,6))\n",
        "plt.pie(counts_party['Party'],labels=counts_party.index,colors=[\"#EEBAB2\",\"#F5F3E7\",\"#F5E2E4\",\"#E5B3BB\"], \n",
        "        textprops={'fontsize':12},\n",
        "        wedgeprops = { 'linewidth' : 3, 'edgecolor' : 'white' })\n",
        "plt.legend(counts_party.index,loc=\"best\",bbox_to_anchor=(-0.1, 0.5),fontsize=12)\n",
        "plt.show()"
      ],
      "id": "4f1be344"
    },
    {
      "cell_type": "markdown",
      "source": [
        "Two functions are designed. *party_hashtag* is used on tweets which have a true sentiment **negative**. Once the tweet contains the hashtags which clearly identify to certain parties or candidates.  \n",
        "The function *party* is used on tweets with a **positive** sentiment. First, find if there is any hashtag can clearify the support for a certain party. If not, using the keywords dictionary to calculate the frequency of mentioning keywords. The corresponding political party with highest frequency will be assigned to the tweet.  "
      ],
      "metadata": {
        "id": "75tY9whPccq_"
      },
      "id": "75tY9whPccq_"
    },
    {
      "cell_type": "markdown",
      "source": [
        "After applying the functions, a total of 478 tweets are assigned to a certain politial party.  \n",
        "From the results, people who support Conservative party may be more willing to add a hashtag which clearify their stands when sending a tweet. So that is why the portion is the largest, 189. The number of Liberal is very close to Conservative, which is 165.  \n",
        "Among the 478 tweets assigned with a party, the number of tweets which show support in The People's Party of Canada is 90. And New Democratic Party portion is the least, only 34 tweets show they support NDP.  "
      ],
      "metadata": {
        "id": "SF2VpaT2dt5r"
      },
      "id": "SF2VpaT2dt5r"
    },
    {
      "cell_type": "markdown",
      "metadata": {
        "id": "68cc76d3"
      },
      "source": [
        "### Graphical Figure"
      ],
      "id": "68cc76d3"
    },
    {
      "cell_type": "markdown",
      "source": [
        "#### Sentiment Analysis - Tweet Length & Sentiment"
      ],
      "metadata": {
        "id": "ijyhC_FxfeWP"
      },
      "id": "ijyhC_FxfeWP"
    },
    {
      "cell_type": "code",
      "execution_count": null,
      "metadata": {
        "id": "71eaeac3"
      },
      "outputs": [],
      "source": [
        "df_sa['length'] = df_sa['text_cleaned'].apply(lambda x: len(x.split()))"
      ],
      "id": "71eaeac3"
    },
    {
      "cell_type": "code",
      "execution_count": null,
      "metadata": {
        "id": "3ac94583"
      },
      "outputs": [],
      "source": [
        "length_positive = df_sa.loc[df_sa['label']=='1']['length']\n",
        "length_negative = df_sa.loc[df_sa['label']=='0']['length']"
      ],
      "id": "3ac94583"
    },
    {
      "cell_type": "code",
      "execution_count": null,
      "metadata": {
        "id": "fd03b3ec",
        "colab": {
          "base_uri": "https://localhost:8080/",
          "height": 54
        },
        "outputId": "2da050b1-4747-4fca-a458-495bd27c5718"
      },
      "outputs": [
        {
          "output_type": "display_data",
          "data": {
            "text/plain": [
              "<Figure size 1440x720 with 2 Axes>"
            ],
            "image/png": "[encoded data removed]"
          },
          "metadata": {
            "needs_background": "light"
          }
        }
      ],
      "source": [
        "fig, ax = plt.subplots(ncols=2,figsize=(20,10))\n",
        "ax[0].hist(x=length_positive, color=\"#E5B3BB\",bins=20,edgecolor='white')\n",
        "ax[1].hist(x=length_negative, color=\"#D5E4C3\",bins=20,edgecolor='white')\n",
        "ax[0].set_xlabel(\"Length of Tweet\")\n",
        "ax[1].set_xlabel(\"Length of Tweet\")\n",
        "ax[0].set_ylabel(\"Frequency\")\n",
        "ax[1].set_ylabel(\"Frequency\")\n",
        "ax[0].set_title(\"Positive Labelled Tweet\")\n",
        "ax[1].set_title(\"Negative Labelled Tweet\")\n",
        "plt.show()"
      ],
      "id": "fd03b3ec"
    },
    {
      "cell_type": "markdown",
      "source": [
        "From the figure, two things are observed, first, no matter the sentiment is, the tweets with length 5 words to 10 words have the highest frequency for the dataset *sentiment_analysis*. And compare to either to0 short tweets or too long tweets, when the length of the tweets are in the interval 5-10 words, the tweets are more likely to show a clear sentiment.  \n",
        "And both figures are right-skewed, the negative sentiment figure are more bell-shaped and centered at length=9, while the positive sentiment figure has two significant peak at length=5 and length=10."
      ],
      "metadata": {
        "id": "eWOW-EUkkd2D"
      },
      "id": "eWOW-EUkkd2D"
    },
    {
      "cell_type": "markdown",
      "source": [
        "#### Canadian Election - Distribution of Negative Reasons"
      ],
      "metadata": {
        "id": "HI0DGlqyqMio"
      },
      "id": "HI0DGlqyqMio"
    },
    {
      "cell_type": "code",
      "execution_count": null,
      "metadata": {
        "id": "2cb9f7c1"
      },
      "outputs": [],
      "source": [
        "reason = df_ce.groupby(['negative_reason'])['negative_reason'].count()\n",
        "reason = reason.array\n",
        "reason = np.delete(reason, reason.argmax())\n",
        "reason_type = df_ce['negative_reason'].unique()\n",
        "reason_type = np.sort(reason_type)\n",
        "reason_type = np.delete(reason_type, 6)"
      ],
      "id": "2cb9f7c1"
    },
    {
      "cell_type": "code",
      "execution_count": null,
      "metadata": {
        "id": "3a57a863"
      },
      "outputs": [],
      "source": [
        "percent = reason/reason.sum()*100\n",
        "percent = [\"%.3f\" % number for number in percent]\n",
        "percent = np.array(percent)\n",
        "percentage = reason_type+' '+percent+'%'"
      ],
      "id": "3a57a863"
    },
    {
      "cell_type": "code",
      "execution_count": null,
      "metadata": {
        "id": "dca84c66"
      },
      "outputs": [],
      "source": [
        "color = [\"#9C9359\",\"#E7CBA9\",\"#EEBAB2\",\"#F5F3E7\",\"#F5E2E4\",\n",
        "         \"#E5B3BB\",\"#DB93A5\",\"#DC828F\",\"#E4CEE0\",\"#D5E4C3\",\"#CCD4BF\"]"
      ],
      "id": "dca84c66"
    },
    {
      "cell_type": "code",
      "execution_count": null,
      "metadata": {
        "id": "95d6bd76",
        "colab": {
          "base_uri": "https://localhost:8080/",
          "height": 54
        },
        "outputId": "e7c39846-2d44-4842-9681-49ddad44c578"
      },
      "outputs": [
        {
          "output_type": "display_data",
          "data": {
            "text/plain": [
              "<Figure size 1440x720 with 1 Axes>"
            ],
            "image/png": "[encoded data removed]"
          },
          "metadata": {}
        }
      ],
      "source": [
        "my_circle = plt.Circle( (0,0), 0.7, color='white')\n",
        "plt.figure(figsize=(20,10))\n",
        "plt.pie(reason, labels=reason_type, colors=color, textprops={'fontsize':17},\n",
        "        wedgeprops = { 'linewidth' : 5, 'edgecolor' : 'white' })\n",
        "p = plt.gcf()\n",
        "p.gca().add_artist(my_circle)\n",
        "plt.legend(percentage,loc=\"best\",bbox_to_anchor=(-0.05, 0.5),fontsize=18)\n",
        "plt.show()"
      ],
      "id": "95d6bd76"
    },
    {
      "cell_type": "markdown",
      "source": [
        "From the dataset, there is a total of 11 negative reason classes. From the above donut plot, the reason *others* accounts for the biggest portion, 38.501%. And *calling election early* and *telling lies* follow the second and third place, the percentage is 18.863% and 15.762%, respectively. These two reasons are complaints about the candidate's personal behaviour. While the rest reasons have a similar percentage but do not account for a major position."
      ],
      "metadata": {
        "id": "stJykcwAqULO"
      },
      "id": "stJykcwAqULO"
    },
    {
      "cell_type": "markdown",
      "metadata": {
        "id": "95012858"
      },
      "source": [
        "## 3 Sentiment Classification - Model implementationa and tuning"
      ],
      "id": "95012858"
    },
    {
      "cell_type": "markdown",
      "metadata": {
        "id": "5b1aee24"
      },
      "source": [
        "### a) Machine Learning Models"
      ],
      "id": "5b1aee24"
    },
    {
      "cell_type": "markdown",
      "source": [
        "#### TF-IDF"
      ],
      "metadata": {
        "id": "1AJOVZpHE66K"
      },
      "id": "1AJOVZpHE66K"
    },
    {
      "cell_type": "code",
      "execution_count": 98,
      "metadata": {
        "id": "5df7ab72"
      },
      "outputs": [],
      "source": [
        "# Spilt data\n",
        "X = df_sa['text_cleaned']\n",
        "y = df_sa['label']\n",
        "X_train, X_test, y_train, y_test = train_test_split(X, y, test_size=0.2, random_state=50)"
      ],
      "id": "5df7ab72"
    },
    {
      "cell_type": "code",
      "execution_count": 99,
      "metadata": {
        "id": "e627e3a3"
      },
      "outputs": [],
      "source": [
        "# Prepare the data using TF-IDF\n",
        "vectorizer_tfidf = TfidfVectorizer(max_features=5000)\n",
        "X_train_tfidf = vectorizer_tfidf.fit_transform(X_train)\n",
        "X_test_tfidf = vectorizer_tfidf.transform(X_test)"
      ],
      "id": "e627e3a3"
    },
    {
      "cell_type": "markdown",
      "metadata": {
        "id": "0f040454"
      },
      "source": [
        "#### Train seven classification algorithms"
      ],
      "id": "0f040454"
    },
    {
      "cell_type": "code",
      "execution_count": null,
      "metadata": {
        "id": "3b994aba",
        "colab": {
          "base_uri": "https://localhost:8080/"
        },
        "outputId": "e5a80d17-d145-47c6-f9fa-e959f054c0c6"
      },
      "outputs": [
        {
          "output_type": "stream",
          "name": "stdout",
          "text": [
            "The accuracy score for Logistic Regression Model on test data is 0.969\n"
          ]
        }
      ],
      "source": [
        "# Logistic Regression\n",
        "lr = LogisticRegression()\n",
        "lr.fit(X_train_tfidf,y_train)\n",
        "y_pred = lr.predict(X_test_tfidf)\n",
        "acc_score = accuracy_score(y_test,y_pred)\n",
        "print(\"The accuracy score for Logistic Regression Model on test data is {:.3f}\".format(acc_score))"
      ],
      "id": "3b994aba"
    },
    {
      "cell_type": "code",
      "execution_count": null,
      "metadata": {
        "id": "f5c78151",
        "scrolled": true,
        "colab": {
          "base_uri": "https://localhost:8080/"
        },
        "outputId": "9dcd13da-db26-458b-d5b8-c94a49ae2f36"
      },
      "outputs": [
        {
          "output_type": "stream",
          "name": "stdout",
          "text": [
            "The accuracy score for KNN Model on test data is 0.808\n"
          ]
        }
      ],
      "source": [
        "# K-NN\n",
        "knn = KNeighborsClassifier()\n",
        "knn.fit(X_train_tfidf,y_train)\n",
        "y_pred_knn = knn.predict(X_test_tfidf)\n",
        "acc_score_knn = accuracy_score(y_test,y_pred_knn)\n",
        "print(\"The accuracy score for KNN Model on test data is {:.3f}\".format(acc_score_knn))"
      ],
      "id": "f5c78151"
    },
    {
      "cell_type": "code",
      "execution_count": null,
      "metadata": {
        "id": "14dfd10e",
        "colab": {
          "base_uri": "https://localhost:8080/"
        },
        "outputId": "3b5d3541-f0dc-43b2-c3a8-14a567e664f8"
      },
      "outputs": [
        {
          "output_type": "stream",
          "name": "stdout",
          "text": [
            "The accuracy score for Naive Bayes Model on test data is 0.933\n"
          ]
        }
      ],
      "source": [
        "# Naive Bayes\n",
        "nb = MultinomialNB()\n",
        "nb.fit(X_train_tfidf,y_train)\n",
        "y_pred_nb = nb.predict(X_test_tfidf)\n",
        "acc_score_nb = accuracy_score(y_test,y_pred_nb)\n",
        "print(\"The accuracy score for Naive Bayes Model on test data is {:.3f}\".format(acc_score_nb))"
      ],
      "id": "14dfd10e"
    },
    {
      "cell_type": "code",
      "execution_count": null,
      "metadata": {
        "id": "2c17a67b",
        "colab": {
          "base_uri": "https://localhost:8080/"
        },
        "outputId": "4e26ab92-41ee-4bff-f0ff-4d77f0949819"
      },
      "outputs": [
        {
          "output_type": "stream",
          "name": "stdout",
          "text": [
            "The accuracy score for SVM Model on test data is 0.970\n"
          ]
        }
      ],
      "source": [
        "# SVM\n",
        "svm = LinearSVC()\n",
        "svm.fit(X_train_tfidf,y_train)\n",
        "y_pred_svm = svm.predict(X_test_tfidf)\n",
        "acc_score_svm = accuracy_score(y_test,y_pred_svm)\n",
        "print(\"The accuracy score for SVM Model on test data is {:.3f}\".format(acc_score_svm))"
      ],
      "id": "2c17a67b"
    },
    {
      "cell_type": "code",
      "execution_count": null,
      "metadata": {
        "id": "1caf0310",
        "colab": {
          "base_uri": "https://localhost:8080/"
        },
        "outputId": "9759ab9e-a08f-45b5-b3f4-887177578318"
      },
      "outputs": [
        {
          "output_type": "stream",
          "name": "stdout",
          "text": [
            "The accuracy score for Decision Tree Model on test data is 0.946\n"
          ]
        }
      ],
      "source": [
        "# Decision Tree\n",
        "dt = DecisionTreeClassifier()\n",
        "dt.fit(X_train_tfidf,y_train)\n",
        "y_pred_dt = dt.predict(X_test_tfidf)\n",
        "acc_score_dt = accuracy_score(y_test,y_pred_dt)\n",
        "print(\"The accuracy score for Decision Tree Model on test data is {:.3f}\".format(acc_score_dt))"
      ],
      "id": "1caf0310"
    },
    {
      "cell_type": "code",
      "execution_count": null,
      "metadata": {
        "id": "fbc44611",
        "colab": {
          "base_uri": "https://localhost:8080/"
        },
        "outputId": "c9b53522-a939-46bc-fb0c-c245357543d7"
      },
      "outputs": [
        {
          "output_type": "stream",
          "name": "stdout",
          "text": [
            "The accuracy score for Random Forest Model on test data is 0.962\n"
          ]
        }
      ],
      "source": [
        "# Random Forest\n",
        "rf = RandomForestClassifier()\n",
        "rf.fit(X_train_tfidf,y_train)\n",
        "y_pred_rf = rf.predict(X_test_tfidf)\n",
        "acc_score_rf = accuracy_score(y_test,y_pred_rf)\n",
        "print(\"The accuracy score for Random Forest Model on test data is {:.3f}\".format(acc_score_rf))"
      ],
      "id": "fbc44611"
    },
    {
      "cell_type": "code",
      "execution_count": null,
      "metadata": {
        "id": "5ea9e623",
        "colab": {
          "base_uri": "https://localhost:8080/"
        },
        "outputId": "dc6b5058-ef70-4588-88db-8b664721e911"
      },
      "outputs": [
        {
          "output_type": "stream",
          "name": "stdout",
          "text": [
            "The accuracy score for XGBoost Model on test data is 0.850\n"
          ]
        }
      ],
      "source": [
        "# XGBoost\n",
        "xgb = XGBClassifier()\n",
        "xgb.fit(X_train_tfidf,y_train)\n",
        "y_pred_xgb = xgb.predict(X_test_tfidf)\n",
        "acc_score_xgb = accuracy_score(y_test,y_pred_xgb)\n",
        "print(\"The accuracy score for XGBoost Model on test data is {:.3f}\".format(acc_score_xgb))"
      ],
      "id": "5ea9e623"
    },
    {
      "cell_type": "code",
      "source": [
        "index = ['Logistic Regression','KNN','Naive Bayes','SVM','Decision Tree','Random Forest','XGBoost']\n",
        "accuracy = [acc_score,acc_score_knn,acc_score_nb,acc_score_svm,acc_score_dt,acc_score_rf,acc_score_xgb]\n",
        "accuracy = pd.DataFrame(accuracy, index=index, columns=['Test Accuracy'])"
      ],
      "metadata": {
        "id": "y3mHKqoHEVPh"
      },
      "id": "y3mHKqoHEVPh",
      "execution_count": null,
      "outputs": []
    },
    {
      "cell_type": "markdown",
      "metadata": {
        "id": "985ef80e"
      },
      "source": [
        "### b) Deep Learning model"
      ],
      "id": "985ef80e"
    },
    {
      "cell_type": "markdown",
      "metadata": {
        "id": "qeZk-bH90OPL"
      },
      "source": [
        "#### Bag of Words"
      ],
      "id": "qeZk-bH90OPL"
    },
    {
      "cell_type": "code",
      "execution_count": null,
      "metadata": {
        "id": "dd532a75"
      },
      "outputs": [],
      "source": [
        "# Training set (60%), Validation set (20%), Test set (20%)\n",
        "X_train, X_1, y_train, y_1 = train_test_split(X, y, test_size=0.4, random_state=50)\n",
        "X_val, X_test, y_val, y_test = train_test_split(X_1, y_1, test_size=0.5, random_state=50)"
      ],
      "id": "dd532a75"
    },
    {
      "cell_type": "code",
      "execution_count": null,
      "metadata": {
        "id": "688d898b"
      },
      "outputs": [],
      "source": [
        "# Bag of Words\n",
        "bag_of_words = CountVectorizer(max_features=5000)\n",
        "X_train_bow = bag_of_words.fit_transform(X_train)\n",
        "X_val_bow = bag_of_words.transform(X_val)\n",
        "X_test_bow = bag_of_words.transform(X_test)"
      ],
      "id": "688d898b"
    },
    {
      "cell_type": "code",
      "execution_count": null,
      "metadata": {
        "id": "qD68mbPVraEV"
      },
      "outputs": [],
      "source": [
        "X_train_bow = X_train_bow.toarray()"
      ],
      "id": "qD68mbPVraEV"
    },
    {
      "cell_type": "code",
      "execution_count": null,
      "metadata": {
        "id": "2uBp5k8Grk8S"
      },
      "outputs": [],
      "source": [
        "X_val_bow = X_val_bow.toarray()"
      ],
      "id": "2uBp5k8Grk8S"
    },
    {
      "cell_type": "code",
      "execution_count": null,
      "metadata": {
        "id": "R3DEj64brmwd"
      },
      "outputs": [],
      "source": [
        "X_test_bow = X_test_bow.toarray()"
      ],
      "id": "R3DEj64brmwd"
    },
    {
      "cell_type": "code",
      "execution_count": null,
      "metadata": {
        "id": "LdGjHVToLLuU"
      },
      "outputs": [],
      "source": [
        "y_train_float = np.array(y_train.astype('float64'))\n",
        "y_val_float = np.array(y_val.astype('float64'))\n",
        "y_test_float = np.array(y_test.astype('float64'))"
      ],
      "id": "LdGjHVToLLuU"
    },
    {
      "cell_type": "markdown",
      "metadata": {
        "id": "3be8bfae"
      },
      "source": [
        "#### Fit Deep Learning model"
      ],
      "id": "3be8bfae"
    },
    {
      "cell_type": "code",
      "source": [
        "# Define and train the deep learning model: Two fully connected hidden layer and a output layer\n",
        "seed(1000)\n",
        "tensorflow.random.set_seed(1234)\n",
        "model = Sequential()\n",
        "model.add(Dense(25, activation='sigmoid',input_dim=5000))\n",
        "model.add(Dense(10, activation='sigmoid',input_dim=5000))\n",
        "model.add(Dense(1, activation='sigmoid'))\n",
        "model.compile(loss='binary_crossentropy',optimizer='Adam',metrics=['accuracy'])\n",
        "\n",
        "hist = model.fit(X_train_bow,y_train_float,validation_data=(X_val_bow, y_val_float), epochs=1,batch_size=256)"
      ],
      "metadata": {
        "colab": {
          "base_uri": "https://localhost:8080/"
        },
        "id": "zVA-9RHA9YW6",
        "outputId": "a3fd7b6c-60c5-47f3-a0f1-0a73702c19ec"
      },
      "id": "zVA-9RHA9YW6",
      "execution_count": null,
      "outputs": [
        {
          "output_type": "stream",
          "name": "stdout",
          "text": [
            "1290/1290 [==============================] - 15s 11ms/step - loss: 0.2364 - accuracy: 0.9028 - val_loss: 0.0939 - val_accuracy: 0.9680\n"
          ]
        }
      ]
    },
    {
      "cell_type": "markdown",
      "source": [
        "##### A function to tuning hypeparameters of the deep learning model"
      ],
      "metadata": {
        "id": "lQRojEK_r_lD"
      },
      "id": "lQRojEK_r_lD"
    },
    {
      "cell_type": "code",
      "source": [
        "def deep_learning_grid_search(unit, function, x_train, y_train, x_val, y_val):\n",
        "  seed(1000)\n",
        "  tensorflow.random.set_seed(1234)\n",
        "\n",
        "  df = pd.DataFrame(columns=['Dense Unit', 'Activation Function', 'Accuracy', 'Loss',\n",
        "                             'Validation Accuracy','Validation Loss'])\n",
        "  for u in unit:\n",
        "      for func in function:\n",
        "        model = Sequential()\n",
        "        model.add(Dense(25, activation='sigmoid',input_dim=5000))\n",
        "        model.add(Dense(u,activation=func,input_dim=5000))\n",
        "        model.add(Dense(1, activation='sigmoid'))\n",
        "        model.compile(loss='binary_crossentropy',optimizer='Adam',metrics=['accuracy'])\n",
        "      \n",
        "        hist = model.fit(x_train, y_train,validation_data=(x_val, y_val), \n",
        "                          epochs=1,batch_size=256)\n",
        "      \n",
        "        dict1 = {'Dense Unit': u, 'Activation Function':func, \n",
        "                'Accuracy':np.around(hist.history['accuracy'],4)[0],\n",
        "               'Loss':np.around(hist.history['loss'],4)[0],\n",
        "                'Validation Accuracy':np.around(hist.history['val_accuracy'],4)[0],\n",
        "               'Validation Loss':np.around(hist.history['val_loss'],4)[0]\n",
        "               }\n",
        "        df = df.append(dict1, ignore_index=True)\n",
        "\n",
        "  return df"
      ],
      "metadata": {
        "id": "DmjAH3ozBOvy"
      },
      "id": "DmjAH3ozBOvy",
      "execution_count": null,
      "outputs": []
    },
    {
      "cell_type": "code",
      "execution_count": null,
      "metadata": {
        "id": "U60fcYu319Qn"
      },
      "outputs": [],
      "source": [
        "dense_unit = [10,50,100]\n",
        "activation_func = ['sigmoid','softmax','exponential']"
      ],
      "id": "U60fcYu319Qn"
    },
    {
      "cell_type": "code",
      "source": [
        "seed(1000)\n",
        "tensorflow.random.set_seed(1234)\n",
        "df = deep_learning_grid_search(dense_unit, activation_func, X_train_bow,y_train_float,X_val_bow, y_val_float)"
      ],
      "metadata": {
        "colab": {
          "base_uri": "https://localhost:8080/"
        },
        "id": "79xIa3ylBw3j",
        "outputId": "246db68f-b824-42e0-d26a-242c64dcece5"
      },
      "id": "79xIa3ylBw3j",
      "execution_count": null,
      "outputs": [
        {
          "output_type": "stream",
          "name": "stdout",
          "text": [
            "1290/1290 [==============================] - 15s 12ms/step - loss: 0.2364 - accuracy: 0.9028 - val_loss: 0.0939 - val_accuracy: 0.9680\n",
            "1290/1290 [==============================] - 15s 11ms/step - loss: 0.3394 - accuracy: 0.8885 - val_loss: 0.1724 - val_accuracy: 0.9679\n",
            "1290/1290 [==============================] - 15s 11ms/step - loss: 0.1402 - accuracy: 0.9431 - val_loss: 0.0907 - val_accuracy: 0.9672\n",
            "1290/1290 [==============================] - 15s 11ms/step - loss: 0.2230 - accuracy: 0.9017 - val_loss: 0.0900 - val_accuracy: 0.9681\n",
            "1290/1290 [==============================] - 15s 12ms/step - loss: 0.3830 - accuracy: 0.8632 - val_loss: 0.1847 - val_accuracy: 0.9674\n",
            "1290/1290 [==============================] - 15s 11ms/step - loss: 0.1566 - accuracy: 0.9362 - val_loss: 0.0887 - val_accuracy: 0.9679\n",
            "1290/1290 [==============================] - 16s 12ms/step - loss: 0.2413 - accuracy: 0.8910 - val_loss: 0.0911 - val_accuracy: 0.9679\n",
            "1290/1290 [==============================] - 16s 12ms/step - loss: 0.4089 - accuracy: 0.8410 - val_loss: 0.1855 - val_accuracy: 0.9665\n",
            "1290/1290 [==============================] - 16s 12ms/step - loss: 0.1524 - accuracy: 0.9368 - val_loss: 0.0880 - val_accuracy: 0.9685\n"
          ]
        }
      ]
    },
    {
      "cell_type": "code",
      "execution_count": null,
      "metadata": {
        "id": "7jpqLfpjUOZ9",
        "colab": {
          "base_uri": "https://localhost:8080/",
          "height": 328
        },
        "outputId": "602354bc-fca5-4085-e903-88e334132466"
      },
      "outputs": [
        {
          "output_type": "execute_result",
          "data": {
            "text/plain": [
              "  Dense Unit Activation Function  Accuracy    Loss  Validation Accuracy  \\\n",
              "2         10         exponential    0.9431  0.1402               0.9672   \n",
              "8        100         exponential    0.9368  0.1524               0.9685   \n",
              "5         50         exponential    0.9362  0.1566               0.9679   \n",
              "0         10             sigmoid    0.9028  0.2364               0.9680   \n",
              "3         50             sigmoid    0.9017  0.2230               0.9681   \n",
              "6        100             sigmoid    0.8910  0.2413               0.9679   \n",
              "1         10             softmax    0.8885  0.3394               0.9679   \n",
              "4         50             softmax    0.8632  0.3830               0.9674   \n",
              "7        100             softmax    0.8410  0.4089               0.9665   \n",
              "\n",
              "   Validation Loss  \n",
              "2           0.0907  \n",
              "8           0.0880  \n",
              "5           0.0887  \n",
              "0           0.0939  \n",
              "3           0.0900  \n",
              "6           0.0911  \n",
              "1           0.1724  \n",
              "4           0.1847  \n",
              "7           0.1855  "
            ],
            "text/html": [
              "\n",
              "  <div id=\"df-67dd9d1e-d180-49c3-9409-f179fa7dfffc\">\n",
              "    <div class=\"colab-df-container\">\n",
              "      <div>\n",
              "<style scoped>\n",
              "    .dataframe tbody tr th:only-of-type {\n",
              "        vertical-align: middle;\n",
              "    }\n",
              "\n",
              "    .dataframe tbody tr th {\n",
              "        vertical-align: top;\n",
              "    }\n",
              "\n",
              "    .dataframe thead th {\n",
              "        text-align: right;\n",
              "    }\n",
              "</style>\n",
              "<table border=\"1\" class=\"dataframe\">\n",
              "  <thead>\n",
              "    <tr style=\"text-align: right;\">\n",
              "      <th></th>\n",
              "      <th>Dense Unit</th>\n",
              "      <th>Activation Function</th>\n",
              "      <th>Accuracy</th>\n",
              "      <th>Loss</th>\n",
              "      <th>Validation Accuracy</th>\n",
              "      <th>Validation Loss</th>\n",
              "    </tr>\n",
              "  </thead>\n",
              "  <tbody>\n",
              "    <tr>\n",
              "      <th>2</th>\n",
              "      <td>10</td>\n",
              "      <td>exponential</td>\n",
              "      <td>0.9431</td>\n",
              "      <td>0.1402</td>\n",
              "      <td>0.9672</td>\n",
              "      <td>0.0907</td>\n",
              "    </tr>\n",
              "    <tr>\n",
              "      <th>8</th>\n",
              "      <td>100</td>\n",
              "      <td>exponential</td>\n",
              "      <td>0.9368</td>\n",
              "      <td>0.1524</td>\n",
              "      <td>0.9685</td>\n",
              "      <td>0.0880</td>\n",
              "    </tr>\n",
              "    <tr>\n",
              "      <th>5</th>\n",
              "      <td>50</td>\n",
              "      <td>exponential</td>\n",
              "      <td>0.9362</td>\n",
              "      <td>0.1566</td>\n",
              "      <td>0.9679</td>\n",
              "      <td>0.0887</td>\n",
              "    </tr>\n",
              "    <tr>\n",
              "      <th>0</th>\n",
              "      <td>10</td>\n",
              "      <td>sigmoid</td>\n",
              "      <td>0.9028</td>\n",
              "      <td>0.2364</td>\n",
              "      <td>0.9680</td>\n",
              "      <td>0.0939</td>\n",
              "    </tr>\n",
              "    <tr>\n",
              "      <th>3</th>\n",
              "      <td>50</td>\n",
              "      <td>sigmoid</td>\n",
              "      <td>0.9017</td>\n",
              "      <td>0.2230</td>\n",
              "      <td>0.9681</td>\n",
              "      <td>0.0900</td>\n",
              "    </tr>\n",
              "    <tr>\n",
              "      <th>6</th>\n",
              "      <td>100</td>\n",
              "      <td>sigmoid</td>\n",
              "      <td>0.8910</td>\n",
              "      <td>0.2413</td>\n",
              "      <td>0.9679</td>\n",
              "      <td>0.0911</td>\n",
              "    </tr>\n",
              "    <tr>\n",
              "      <th>1</th>\n",
              "      <td>10</td>\n",
              "      <td>softmax</td>\n",
              "      <td>0.8885</td>\n",
              "      <td>0.3394</td>\n",
              "      <td>0.9679</td>\n",
              "      <td>0.1724</td>\n",
              "    </tr>\n",
              "    <tr>\n",
              "      <th>4</th>\n",
              "      <td>50</td>\n",
              "      <td>softmax</td>\n",
              "      <td>0.8632</td>\n",
              "      <td>0.3830</td>\n",
              "      <td>0.9674</td>\n",
              "      <td>0.1847</td>\n",
              "    </tr>\n",
              "    <tr>\n",
              "      <th>7</th>\n",
              "      <td>100</td>\n",
              "      <td>softmax</td>\n",
              "      <td>0.8410</td>\n",
              "      <td>0.4089</td>\n",
              "      <td>0.9665</td>\n",
              "      <td>0.1855</td>\n",
              "    </tr>\n",
              "  </tbody>\n",
              "</table>\n",
              "</div>\n",
              "      <button class=\"colab-df-convert\" onclick=\"convertToInteractive('df-67dd9d1e-d180-49c3-9409-f179fa7dfffc')\"\n",
              "              title=\"Convert this dataframe to an interactive table.\"\n",
              "              style=\"display:none;\">\n",
              "        \n",
              "  <svg xmlns=\"http://www.w3.org/2000/svg\" height=\"24px\"viewBox=\"0 0 24 24\"\n",
              "       width=\"24px\">\n",
              "    <path d=\"M0 0h24v24H0V0z\" fill=\"none\"/>\n",
              "    <path d=\"M18.56 5.44l.94 2.06.94-2.06 2.06-.94-2.06-.94-.94-2.06-.94 2.06-2.06.94zm-11 1L8.5 8.5l.94-2.06 2.06-.94-2.06-.94L8.5 2.5l-.94 2.06-2.06.94zm10 10l.94 2.06.94-2.06 2.06-.94-2.06-.94-.94-2.06-.94 2.06-2.06.94z\"/><path d=\"M17.41 7.96l-1.37-1.37c-.4-.4-.92-.59-1.43-.59-.52 0-1.04.2-1.43.59L10.3 9.45l-7.72 7.72c-.78.78-.78 2.05 0 2.83L4 21.41c.39.39.9.59 1.41.59.51 0 1.02-.2 1.41-.59l7.78-7.78 2.81-2.81c.8-.78.8-2.07 0-2.86zM5.41 20L4 18.59l7.72-7.72 1.47 1.35L5.41 20z\"/>\n",
              "  </svg>\n",
              "      </button>\n",
              "      \n",
              "  <style>\n",
              "    .colab-df-container {\n",
              "      display:flex;\n",
              "      flex-wrap:wrap;\n",
              "      gap: 12px;\n",
              "    }\n",
              "\n",
              "    .colab-df-convert {\n",
              "      background-color: #E8F0FE;\n",
              "      border: none;\n",
              "      border-radius: 50%;\n",
              "      cursor: pointer;\n",
              "      display: none;\n",
              "      fill: #1967D2;\n",
              "      height: 32px;\n",
              "      padding: 0 0 0 0;\n",
              "      width: 32px;\n",
              "    }\n",
              "\n",
              "    .colab-df-convert:hover {\n",
              "      background-color: #E2EBFA;\n",
              "      box-shadow: 0px 1px 2px rgba(60, 64, 67, 0.3), 0px 1px 3px 1px rgba(60, 64, 67, 0.15);\n",
              "      fill: #174EA6;\n",
              "    }\n",
              "\n",
              "    [theme=dark] .colab-df-convert {\n",
              "      background-color: #3B4455;\n",
              "      fill: #D2E3FC;\n",
              "    }\n",
              "\n",
              "    [theme=dark] .colab-df-convert:hover {\n",
              "      background-color: #434B5C;\n",
              "      box-shadow: 0px 1px 3px 1px rgba(0, 0, 0, 0.15);\n",
              "      filter: drop-shadow(0px 1px 2px rgba(0, 0, 0, 0.3));\n",
              "      fill: #FFFFFF;\n",
              "    }\n",
              "  </style>\n",
              "\n",
              "      <script>\n",
              "        const buttonEl =\n",
              "          document.querySelector('#df-67dd9d1e-d180-49c3-9409-f179fa7dfffc button.colab-df-convert');\n",
              "        buttonEl.style.display =\n",
              "          google.colab.kernel.accessAllowed ? 'block' : 'none';\n",
              "\n",
              "        async function convertToInteractive(key) {\n",
              "          const element = document.querySelector('#df-67dd9d1e-d180-49c3-9409-f179fa7dfffc');\n",
              "          const dataTable =\n",
              "            await google.colab.kernel.invokeFunction('convertToInteractive',\n",
              "                                                     [key], {});\n",
              "          if (!dataTable) return;\n",
              "\n",
              "          const docLinkHtml = 'Like what you see? Visit the ' +\n",
              "            '<a target=\"_blank\" href=https://colab.research.google.com/notebooks/data_table.ipynb>data table notebook</a>'\n",
              "            + ' to learn more about interactive tables.';\n",
              "          element.innerHTML = '';\n",
              "          dataTable['output_type'] = 'display_data';\n",
              "          await google.colab.output.renderOutput(dataTable, element);\n",
              "          const docLink = document.createElement('div');\n",
              "          docLink.innerHTML = docLinkHtml;\n",
              "          element.appendChild(docLink);\n",
              "        }\n",
              "      </script>\n",
              "    </div>\n",
              "  </div>\n",
              "  "
            ]
          },
          "metadata": {},
          "execution_count": 44
        }
      ],
      "source": [
        "df.sort_values(by=['Accuracy'],ascending=False)"
      ],
      "id": "7jpqLfpjUOZ9"
    },
    {
      "cell_type": "markdown",
      "source": [
        "The best performance model is when the unit of the second dense layer = 10 and the activation functio = 'exponential'"
      ],
      "metadata": {
        "id": "AmObJnGrsP50"
      },
      "id": "AmObJnGrsP50"
    },
    {
      "cell_type": "code",
      "execution_count": null,
      "metadata": {
        "id": "VgoCy9SZUrOa",
        "colab": {
          "base_uri": "https://localhost:8080/"
        },
        "outputId": "61baa77a-2c86-4c6a-f084-b8ee44128f3a"
      },
      "outputs": [
        {
          "output_type": "stream",
          "name": "stdout",
          "text": [
            "1290/1290 [==============================] - 15s 11ms/step - loss: 0.1621 - accuracy: 0.9326 - val_loss: 0.0912 - val_accuracy: 0.9681\n"
          ]
        },
        {
          "output_type": "execute_result",
          "data": {
            "text/plain": [
              "<keras.callbacks.History at 0x7fa393d94210>"
            ]
          },
          "metadata": {},
          "execution_count": 45
        }
      ],
      "source": [
        "# Train the best performance model on the Test Data\n",
        "seed(1000)\n",
        "tensorflow.random.set_seed(1234)\n",
        "model_final = Sequential()\n",
        "model_final.add(Dense(10, activation='sigmoid',input_dim=5000))\n",
        "model_final.add(Dense(10,activation='exponential',input_dim=5000))\n",
        "model_final.add(Dense(1, activation='sigmoid'))\n",
        "model_final.compile(loss='binary_crossentropy',optimizer='Adam',metrics=['accuracy'])\n",
        "model_final.fit(X_train_bow,y_train_float,validation_data=(X_val_bow, y_val_float), epochs=1,batch_size=256)"
      ],
      "id": "VgoCy9SZUrOa"
    },
    {
      "cell_type": "code",
      "execution_count": null,
      "metadata": {
        "id": "bn5DeQLlUvjB",
        "colab": {
          "base_uri": "https://localhost:8080/"
        },
        "outputId": "f281c801-9e95-459e-ee2f-4c96b4923478"
      },
      "outputs": [
        {
          "output_type": "stream",
          "name": "stdout",
          "text": [
            "3440/3440 [==============================] - 10s 3ms/step - loss: 0.0948 - accuracy: 0.9677\n",
            "The accuracy score for Deep Learning Model on test data is 0.968\n"
          ]
        }
      ],
      "source": [
        "scores = model_final.evaluate(X_test_bow, y_test_float)\n",
        "print(\"The accuracy score for Deep Learning Model on test data is {:.3f}\".format(scores[1]))"
      ],
      "id": "bn5DeQLlUvjB"
    },
    {
      "cell_type": "markdown",
      "metadata": {
        "id": "x6eQPAyUVEjm"
      },
      "source": [
        "### c) Evaluate the model with best performanace on Canada Elections data"
      ],
      "id": "x6eQPAyUVEjm"
    },
    {
      "cell_type": "code",
      "source": [
        "accuracy.loc['Deep Learning Model'] = scores[1]\n",
        "accuracy.sort_values(by=['Test Accuracy'],ascending=False)"
      ],
      "metadata": {
        "colab": {
          "base_uri": "https://localhost:8080/",
          "height": 297
        },
        "id": "RDSAPgkUOLB4",
        "outputId": "3c246929-b88a-46b7-a13e-ceca5a89586f"
      },
      "id": "RDSAPgkUOLB4",
      "execution_count": null,
      "outputs": [
        {
          "output_type": "execute_result",
          "data": {
            "text/plain": [
              "                     Test Accuracy\n",
              "SVM                       0.969804\n",
              "Logistic Regression       0.969404\n",
              "Deep Learning Model       0.967714\n",
              "Random Forest             0.962082\n",
              "Decision Tree             0.945594\n",
              "Naive Bayes               0.933348\n",
              "XGBoost                   0.850426\n",
              "KNN                       0.807638"
            ],
            "text/html": [
              "\n",
              "  <div id=\"df-50e2a49a-0587-452f-882e-5116a6c833ec\">\n",
              "    <div class=\"colab-df-container\">\n",
              "      <div>\n",
              "<style scoped>\n",
              "    .dataframe tbody tr th:only-of-type {\n",
              "        vertical-align: middle;\n",
              "    }\n",
              "\n",
              "    .dataframe tbody tr th {\n",
              "        vertical-align: top;\n",
              "    }\n",
              "\n",
              "    .dataframe thead th {\n",
              "        text-align: right;\n",
              "    }\n",
              "</style>\n",
              "<table border=\"1\" class=\"dataframe\">\n",
              "  <thead>\n",
              "    <tr style=\"text-align: right;\">\n",
              "      <th></th>\n",
              "      <th>Test Accuracy</th>\n",
              "    </tr>\n",
              "  </thead>\n",
              "  <tbody>\n",
              "    <tr>\n",
              "      <th>SVM</th>\n",
              "      <td>0.969804</td>\n",
              "    </tr>\n",
              "    <tr>\n",
              "      <th>Logistic Regression</th>\n",
              "      <td>0.969404</td>\n",
              "    </tr>\n",
              "    <tr>\n",
              "      <th>Deep Learning Model</th>\n",
              "      <td>0.967714</td>\n",
              "    </tr>\n",
              "    <tr>\n",
              "      <th>Random Forest</th>\n",
              "      <td>0.962082</td>\n",
              "    </tr>\n",
              "    <tr>\n",
              "      <th>Decision Tree</th>\n",
              "      <td>0.945594</td>\n",
              "    </tr>\n",
              "    <tr>\n",
              "      <th>Naive Bayes</th>\n",
              "      <td>0.933348</td>\n",
              "    </tr>\n",
              "    <tr>\n",
              "      <th>XGBoost</th>\n",
              "      <td>0.850426</td>\n",
              "    </tr>\n",
              "    <tr>\n",
              "      <th>KNN</th>\n",
              "      <td>0.807638</td>\n",
              "    </tr>\n",
              "  </tbody>\n",
              "</table>\n",
              "</div>\n",
              "      <button class=\"colab-df-convert\" onclick=\"convertToInteractive('df-50e2a49a-0587-452f-882e-5116a6c833ec')\"\n",
              "              title=\"Convert this dataframe to an interactive table.\"\n",
              "              style=\"display:none;\">\n",
              "        \n",
              "  <svg xmlns=\"http://www.w3.org/2000/svg\" height=\"24px\"viewBox=\"0 0 24 24\"\n",
              "       width=\"24px\">\n",
              "    <path d=\"M0 0h24v24H0V0z\" fill=\"none\"/>\n",
              "    <path d=\"M18.56 5.44l.94 2.06.94-2.06 2.06-.94-2.06-.94-.94-2.06-.94 2.06-2.06.94zm-11 1L8.5 8.5l.94-2.06 2.06-.94-2.06-.94L8.5 2.5l-.94 2.06-2.06.94zm10 10l.94 2.06.94-2.06 2.06-.94-2.06-.94-.94-2.06-.94 2.06-2.06.94z\"/><path d=\"M17.41 7.96l-1.37-1.37c-.4-.4-.92-.59-1.43-.59-.52 0-1.04.2-1.43.59L10.3 9.45l-7.72 7.72c-.78.78-.78 2.05 0 2.83L4 21.41c.39.39.9.59 1.41.59.51 0 1.02-.2 1.41-.59l7.78-7.78 2.81-2.81c.8-.78.8-2.07 0-2.86zM5.41 20L4 18.59l7.72-7.72 1.47 1.35L5.41 20z\"/>\n",
              "  </svg>\n",
              "      </button>\n",
              "      \n",
              "  <style>\n",
              "    .colab-df-container {\n",
              "      display:flex;\n",
              "      flex-wrap:wrap;\n",
              "      gap: 12px;\n",
              "    }\n",
              "\n",
              "    .colab-df-convert {\n",
              "      background-color: #E8F0FE;\n",
              "      border: none;\n",
              "      border-radius: 50%;\n",
              "      cursor: pointer;\n",
              "      display: none;\n",
              "      fill: #1967D2;\n",
              "      height: 32px;\n",
              "      padding: 0 0 0 0;\n",
              "      width: 32px;\n",
              "    }\n",
              "\n",
              "    .colab-df-convert:hover {\n",
              "      background-color: #E2EBFA;\n",
              "      box-shadow: 0px 1px 2px rgba(60, 64, 67, 0.3), 0px 1px 3px 1px rgba(60, 64, 67, 0.15);\n",
              "      fill: #174EA6;\n",
              "    }\n",
              "\n",
              "    [theme=dark] .colab-df-convert {\n",
              "      background-color: #3B4455;\n",
              "      fill: #D2E3FC;\n",
              "    }\n",
              "\n",
              "    [theme=dark] .colab-df-convert:hover {\n",
              "      background-color: #434B5C;\n",
              "      box-shadow: 0px 1px 3px 1px rgba(0, 0, 0, 0.15);\n",
              "      filter: drop-shadow(0px 1px 2px rgba(0, 0, 0, 0.3));\n",
              "      fill: #FFFFFF;\n",
              "    }\n",
              "  </style>\n",
              "\n",
              "      <script>\n",
              "        const buttonEl =\n",
              "          document.querySelector('#df-50e2a49a-0587-452f-882e-5116a6c833ec button.colab-df-convert');\n",
              "        buttonEl.style.display =\n",
              "          google.colab.kernel.accessAllowed ? 'block' : 'none';\n",
              "\n",
              "        async function convertToInteractive(key) {\n",
              "          const element = document.querySelector('#df-50e2a49a-0587-452f-882e-5116a6c833ec');\n",
              "          const dataTable =\n",
              "            await google.colab.kernel.invokeFunction('convertToInteractive',\n",
              "                                                     [key], {});\n",
              "          if (!dataTable) return;\n",
              "\n",
              "          const docLinkHtml = 'Like what you see? Visit the ' +\n",
              "            '<a target=\"_blank\" href=https://colab.research.google.com/notebooks/data_table.ipynb>data table notebook</a>'\n",
              "            + ' to learn more about interactive tables.';\n",
              "          element.innerHTML = '';\n",
              "          dataTable['output_type'] = 'display_data';\n",
              "          await google.colab.output.renderOutput(dataTable, element);\n",
              "          const docLink = document.createElement('div');\n",
              "          docLink.innerHTML = docLinkHtml;\n",
              "          element.appendChild(docLink);\n",
              "        }\n",
              "      </script>\n",
              "    </div>\n",
              "  </div>\n",
              "  "
            ]
          },
          "metadata": {},
          "execution_count": 47
        }
      ]
    },
    {
      "cell_type": "markdown",
      "source": [
        "The best performance model among the all models from (a) and (b) is SVM model, with highest test accuracy 0.969804"
      ],
      "metadata": {
        "id": "gK3O6jFksktO"
      },
      "id": "gK3O6jFksktO"
    },
    {
      "cell_type": "code",
      "execution_count": null,
      "metadata": {
        "id": "YBIivsjnt_0q"
      },
      "outputs": [],
      "source": [
        "# Encode the sentiment to 0 and 1\n",
        "lb = LabelEncoder() \n",
        "df_ce['label'] = lb.fit_transform(df_ce['sentiment'])"
      ],
      "id": "YBIivsjnt_0q"
    },
    {
      "cell_type": "code",
      "execution_count": null,
      "metadata": {
        "id": "Ly3nLD5LVDpj"
      },
      "outputs": [],
      "source": [
        "X_ce = df_ce['text_cleaned']\n",
        "y_ce = df_ce['label'].astype('string')"
      ],
      "id": "Ly3nLD5LVDpj"
    },
    {
      "cell_type": "code",
      "execution_count": 100,
      "metadata": {
        "id": "-hijXJ_9Vwgv"
      },
      "outputs": [],
      "source": [
        "# Apply TF-IDF on the Canadian Election data\n",
        "X_tfidf = vectorizer_tfidf.transform(X_ce)"
      ],
      "id": "-hijXJ_9Vwgv"
    },
    {
      "cell_type": "code",
      "execution_count": 101,
      "metadata": {
        "id": "dQTKK9VOV2mt",
        "colab": {
          "base_uri": "https://localhost:8080/"
        },
        "outputId": "b9a4c070-8c1e-4f12-b43f-48170c04113a"
      },
      "outputs": [
        {
          "output_type": "stream",
          "name": "stdout",
          "text": [
            "The accuracy score for SVM Model on Canadian Elections data is 0.750\n"
          ]
        }
      ],
      "source": [
        "# svm = LinearSVC()\n",
        "# svm.fit(X_train_tfidf,y_train)\n",
        "y_predict = svm.predict(X_tfidf)\n",
        "acc_score_ce = accuracy_score(y_ce,y_predict)\n",
        "print(\"The accuracy score for SVM Model on Canadian Elections data is {:.3f}\".format(acc_score_ce))"
      ],
      "id": "dQTKK9VOV2mt"
    },
    {
      "cell_type": "markdown",
      "source": [
        "The accuracy of the SVM model on the Canadian Election data is 75%"
      ],
      "metadata": {
        "id": "UvRykuZ3tQ9D"
      },
      "id": "UvRykuZ3tQ9D"
    },
    {
      "cell_type": "markdown",
      "source": [
        "##### Visualize Model Results"
      ],
      "metadata": {
        "id": "X337rbVwavJG"
      },
      "id": "X337rbVwavJG"
    },
    {
      "cell_type": "code",
      "execution_count": null,
      "metadata": {
        "id": "4fiMbtIPXVB9"
      },
      "outputs": [],
      "source": [
        "df_ce['sentiment_prediction'] = y_predict"
      ],
      "id": "4fiMbtIPXVB9"
    },
    {
      "cell_type": "code",
      "source": [
        "predicts = list(df_ce['sentiment_prediction'].value_counts())\n",
        "order = [1, 0]\n",
        "predicts = [predicts[i] for i in order]\n",
        "predicts"
      ],
      "metadata": {
        "colab": {
          "base_uri": "https://localhost:8080/"
        },
        "id": "4LS6lxy7bI9e",
        "outputId": "91f084e6-60c0-42a1-bef2-22754d492e1f"
      },
      "id": "4LS6lxy7bI9e",
      "execution_count": 126,
      "outputs": [
        {
          "output_type": "execute_result",
          "data": {
            "text/plain": [
              "[451, 551]"
            ]
          },
          "metadata": {},
          "execution_count": 126
        }
      ]
    },
    {
      "cell_type": "code",
      "source": [
        "labels = ['Positive','Negative']\n",
        "\n",
        "x = np.arange(len(labels)) \n",
        "width = 0.35\n",
        "\n",
        "fig, ax = plt.subplots(figsize=(8,6))\n",
        "\n",
        "bar1 = ax.bar(x - width/2, df_ce['label'].value_counts(),width, label='True Sentiment',color=\"#E5B3BB\")\n",
        "bar2 = ax.bar(x + width/2, predicts,width, label='Sentiment Prediction',color=\"#D5E4C3\")\n",
        "plt.title('SVM Model Results on Canadian Election Data')\n",
        "plt.ylabel('Number of Tweets')\n",
        "plt.xticks(x, labels)\n",
        "ax.legend()\n",
        "\n",
        "plt.tight_layout()\n",
        "plt.show()"
      ],
      "metadata": {
        "colab": {
          "base_uri": "https://localhost:8080/",
          "height": 441
        },
        "id": "MiA_LBylXFGl",
        "outputId": "9a2606b6-ac5b-4fae-8f57-f73d848ddf78"
      },
      "id": "MiA_LBylXFGl",
      "execution_count": 127,
      "outputs": [
        {
          "output_type": "display_data",
          "data": {
            "text/plain": [
              "<Figure size 576x432 with 1 Axes>"
            ],
            "image/png": "[encoded data removed]"
          },
          "metadata": {
            "needs_background": "light"
          }
        }
      ]
    },
    {
      "cell_type": "markdown",
      "metadata": {
        "id": "Pf6qW_ZZWP-3"
      },
      "source": [
        "### d) Two other ecaluation metrics"
      ],
      "id": "Pf6qW_ZZWP-3"
    },
    {
      "cell_type": "code",
      "execution_count": null,
      "metadata": {
        "id": "EfOr_QHBWWvX",
        "colab": {
          "base_uri": "https://localhost:8080/"
        },
        "outputId": "c1fc0967-8c35-4513-f2d3-3554555e6343"
      },
      "outputs": [
        {
          "output_type": "stream",
          "name": "stdout",
          "text": [
            "The precision score for SVM Model on Canadian Elections data is 0.796\n"
          ]
        }
      ],
      "source": [
        "precision = precision_score(y_ce,y_predict, average='weighted')\n",
        "print(\"The precision score for SVM Model on Canadian Elections data is {:.3f}\".format(precision))"
      ],
      "id": "EfOr_QHBWWvX"
    },
    {
      "cell_type": "code",
      "execution_count": null,
      "metadata": {
        "id": "Oese2SfPXCkG",
        "colab": {
          "base_uri": "https://localhost:8080/"
        },
        "outputId": "2743b163-389e-4c92-e1dd-fe50ca58cde5"
      },
      "outputs": [
        {
          "output_type": "stream",
          "name": "stdout",
          "text": [
            "The recall score for SVM Model on Canadian Elections data is 0.750\n"
          ]
        }
      ],
      "source": [
        "recall = recall_score(y_ce,y_predict, average='weighted')\n",
        "print(\"The recall score for SVM Model on Canadian Elections data is {:.3f}\".format(recall))"
      ],
      "id": "Oese2SfPXCkG"
    },
    {
      "cell_type": "markdown",
      "source": [
        "Precision Score and Recall Score are chosen to evaluate the SVM model.   \n",
        "Precision is the ratio between True Positives and all Positives, that can be used to see how the model correctly predicted the tweets with positive sentiment among all correct predictions.   \n",
        "Recall also gives how accurately the SVM predicts the positive sentiment, which shows the ratio between correctly predicted positive tweets and the number of all true positive tweets."
      ],
      "metadata": {
        "id": "QXChmSXbtd8z"
      },
      "id": "QXChmSXbtd8z"
    },
    {
      "cell_type": "markdown",
      "metadata": {
        "id": "0nWfD_keXMnA"
      },
      "source": [
        "### e) Visualize the sentiment prediction and true sentiment for 4 parties"
      ],
      "id": "0nWfD_keXMnA"
    },
    {
      "cell_type": "code",
      "execution_count": null,
      "metadata": {
        "id": "7khADup2zcYm"
      },
      "outputs": [],
      "source": [
        "party_array = df_ce['Party'].unique()[1:]\n",
        "true_0, true_1, predict_0, predict_1 = [], [], [], []\n",
        "for party in party_array:\n",
        "  true_1.append(list(df_ce[df_ce['Party']==party]['label'].value_counts())[0])\n",
        "  true_0.append(list(df_ce[df_ce['Party']==party]['label'].value_counts())[1])\n",
        "  predict_1.append(list(df_ce[df_ce['Party']==party]['sentiment_prediction'].value_counts())[0])\n",
        "  predict_0.append(list(df_ce[df_ce['Party']==party]['sentiment_prediction'].value_counts())[1])"
      ],
      "id": "7khADup2zcYm"
    },
    {
      "cell_type": "code",
      "execution_count": null,
      "metadata": {
        "id": "KsSJqClswzM2"
      },
      "outputs": [],
      "source": [
        "df_party = pd.DataFrame(np.column_stack([true_0, true_1, predict_0, predict_1]),index=party_array,\n",
        "             columns=['True Negative','True Positive','Predicted Negative','Predicted Positive'])"
      ],
      "id": "KsSJqClswzM2"
    },
    {
      "cell_type": "code",
      "execution_count": null,
      "metadata": {
        "id": "U_648d6S1ZsN",
        "colab": {
          "base_uri": "https://localhost:8080/",
          "height": 173
        },
        "outputId": "d5d0cb3e-e9b6-4fef-98df-70e0df9ad25f"
      },
      "outputs": [
        {
          "output_type": "execute_result",
          "data": {
            "text/plain": [
              "              True Negative  True Positive  Predicted Negative  \\\n",
              "PPC                      11             79                  39   \n",
              "Liberal                  11            154                  63   \n",
              "Conservative             36            153                  91   \n",
              "NDP                       2             32                  10   \n",
              "\n",
              "              Predicted Positive  \n",
              "PPC                           51  \n",
              "Liberal                      102  \n",
              "Conservative                  98  \n",
              "NDP                           24  "
            ],
            "text/html": [
              "\n",
              "  <div id=\"df-f4dedf62-6a45-444d-a610-33137f6fdd24\">\n",
              "    <div class=\"colab-df-container\">\n",
              "      <div>\n",
              "<style scoped>\n",
              "    .dataframe tbody tr th:only-of-type {\n",
              "        vertical-align: middle;\n",
              "    }\n",
              "\n",
              "    .dataframe tbody tr th {\n",
              "        vertical-align: top;\n",
              "    }\n",
              "\n",
              "    .dataframe thead th {\n",
              "        text-align: right;\n",
              "    }\n",
              "</style>\n",
              "<table border=\"1\" class=\"dataframe\">\n",
              "  <thead>\n",
              "    <tr style=\"text-align: right;\">\n",
              "      <th></th>\n",
              "      <th>True Negative</th>\n",
              "      <th>True Positive</th>\n",
              "      <th>Predicted Negative</th>\n",
              "      <th>Predicted Positive</th>\n",
              "    </tr>\n",
              "  </thead>\n",
              "  <tbody>\n",
              "    <tr>\n",
              "      <th>PPC</th>\n",
              "      <td>11</td>\n",
              "      <td>79</td>\n",
              "      <td>39</td>\n",
              "      <td>51</td>\n",
              "    </tr>\n",
              "    <tr>\n",
              "      <th>Liberal</th>\n",
              "      <td>11</td>\n",
              "      <td>154</td>\n",
              "      <td>63</td>\n",
              "      <td>102</td>\n",
              "    </tr>\n",
              "    <tr>\n",
              "      <th>Conservative</th>\n",
              "      <td>36</td>\n",
              "      <td>153</td>\n",
              "      <td>91</td>\n",
              "      <td>98</td>\n",
              "    </tr>\n",
              "    <tr>\n",
              "      <th>NDP</th>\n",
              "      <td>2</td>\n",
              "      <td>32</td>\n",
              "      <td>10</td>\n",
              "      <td>24</td>\n",
              "    </tr>\n",
              "  </tbody>\n",
              "</table>\n",
              "</div>\n",
              "      <button class=\"colab-df-convert\" onclick=\"convertToInteractive('df-f4dedf62-6a45-444d-a610-33137f6fdd24')\"\n",
              "              title=\"Convert this dataframe to an interactive table.\"\n",
              "              style=\"display:none;\">\n",
              "        \n",
              "  <svg xmlns=\"http://www.w3.org/2000/svg\" height=\"24px\"viewBox=\"0 0 24 24\"\n",
              "       width=\"24px\">\n",
              "    <path d=\"M0 0h24v24H0V0z\" fill=\"none\"/>\n",
              "    <path d=\"M18.56 5.44l.94 2.06.94-2.06 2.06-.94-2.06-.94-.94-2.06-.94 2.06-2.06.94zm-11 1L8.5 8.5l.94-2.06 2.06-.94-2.06-.94L8.5 2.5l-.94 2.06-2.06.94zm10 10l.94 2.06.94-2.06 2.06-.94-2.06-.94-.94-2.06-.94 2.06-2.06.94z\"/><path d=\"M17.41 7.96l-1.37-1.37c-.4-.4-.92-.59-1.43-.59-.52 0-1.04.2-1.43.59L10.3 9.45l-7.72 7.72c-.78.78-.78 2.05 0 2.83L4 21.41c.39.39.9.59 1.41.59.51 0 1.02-.2 1.41-.59l7.78-7.78 2.81-2.81c.8-.78.8-2.07 0-2.86zM5.41 20L4 18.59l7.72-7.72 1.47 1.35L5.41 20z\"/>\n",
              "  </svg>\n",
              "      </button>\n",
              "      \n",
              "  <style>\n",
              "    .colab-df-container {\n",
              "      display:flex;\n",
              "      flex-wrap:wrap;\n",
              "      gap: 12px;\n",
              "    }\n",
              "\n",
              "    .colab-df-convert {\n",
              "      background-color: #E8F0FE;\n",
              "      border: none;\n",
              "      border-radius: 50%;\n",
              "      cursor: pointer;\n",
              "      display: none;\n",
              "      fill: #1967D2;\n",
              "      height: 32px;\n",
              "      padding: 0 0 0 0;\n",
              "      width: 32px;\n",
              "    }\n",
              "\n",
              "    .colab-df-convert:hover {\n",
              "      background-color: #E2EBFA;\n",
              "      box-shadow: 0px 1px 2px rgba(60, 64, 67, 0.3), 0px 1px 3px 1px rgba(60, 64, 67, 0.15);\n",
              "      fill: #174EA6;\n",
              "    }\n",
              "\n",
              "    [theme=dark] .colab-df-convert {\n",
              "      background-color: #3B4455;\n",
              "      fill: #D2E3FC;\n",
              "    }\n",
              "\n",
              "    [theme=dark] .colab-df-convert:hover {\n",
              "      background-color: #434B5C;\n",
              "      box-shadow: 0px 1px 3px 1px rgba(0, 0, 0, 0.15);\n",
              "      filter: drop-shadow(0px 1px 2px rgba(0, 0, 0, 0.3));\n",
              "      fill: #FFFFFF;\n",
              "    }\n",
              "  </style>\n",
              "\n",
              "      <script>\n",
              "        const buttonEl =\n",
              "          document.querySelector('#df-f4dedf62-6a45-444d-a610-33137f6fdd24 button.colab-df-convert');\n",
              "        buttonEl.style.display =\n",
              "          google.colab.kernel.accessAllowed ? 'block' : 'none';\n",
              "\n",
              "        async function convertToInteractive(key) {\n",
              "          const element = document.querySelector('#df-f4dedf62-6a45-444d-a610-33137f6fdd24');\n",
              "          const dataTable =\n",
              "            await google.colab.kernel.invokeFunction('convertToInteractive',\n",
              "                                                     [key], {});\n",
              "          if (!dataTable) return;\n",
              "\n",
              "          const docLinkHtml = 'Like what you see? Visit the ' +\n",
              "            '<a target=\"_blank\" href=https://colab.research.google.com/notebooks/data_table.ipynb>data table notebook</a>'\n",
              "            + ' to learn more about interactive tables.';\n",
              "          element.innerHTML = '';\n",
              "          dataTable['output_type'] = 'display_data';\n",
              "          await google.colab.output.renderOutput(dataTable, element);\n",
              "          const docLink = document.createElement('div');\n",
              "          docLink.innerHTML = docLinkHtml;\n",
              "          element.appendChild(docLink);\n",
              "        }\n",
              "      </script>\n",
              "    </div>\n",
              "  </div>\n",
              "  "
            ]
          },
          "metadata": {},
          "execution_count": 57
        }
      ],
      "source": [
        "df_party"
      ],
      "id": "U_648d6S1ZsN"
    },
    {
      "cell_type": "code",
      "execution_count": null,
      "metadata": {
        "id": "PWK-10Nw1oPC",
        "colab": {
          "base_uri": "https://localhost:8080/",
          "height": 353
        },
        "outputId": "b696e31a-9d96-4b69-cb41-e290241ff0e0"
      },
      "outputs": [
        {
          "output_type": "display_data",
          "data": {
            "text/plain": [
              "<Figure size 576x360 with 1 Axes>"
            ],
            "image/png": "[encoded data removed]"
          },
          "metadata": {
            "needs_background": "light"
          }
        }
      ],
      "source": [
        "df_party.plot.bar(color=[\"#EEBAB2\",\"#F5F3E7\",\"#F5E2E4\",\"#E5B3BB\"],rot=0,figsize=(8,5))\n",
        "plt.legend(bbox_to_anchor=(1, 1),loc='best')\n",
        "plt.title('Distribution of True and Predicted Tweet Sentiment of Political Parties', fontsize=12)\n",
        "plt.xlabel(\"Political party\", fontsize=12)\n",
        "plt.ylabel(\"Number of tweets\", fontsize=12)\n",
        "plt.show()"
      ],
      "id": "PWK-10Nw1oPC"
    },
    {
      "cell_type": "markdown",
      "source": [
        "**Discuss your findings and whether NLP analytics based on tweets is useful for political parties during election campaigns**  \n",
        "  \n",
        "From the above figure, for all four parties, there is a big gap between the predicted results and the true sentiment. The number of predicted negative tweets is overestimated, it exceeds the number of true negative tweets, while the number of predicted positive tweets are much less than the true positive tweets.   \n",
        "\n",
        "I think the NLP analytics is useful in election campaigns to some extent. For example, in this case, the number of against voices is overestimated, but the sense of crisis will be maintained and the party will be more cautious during the campaigns. And the general trend in predicted sentiment distribution fits the true one. However, there is still some weakness due to bias, the underestimation of positive voices of opposing parties will affect the actions and judgments. It still needs improvement.  \n",
        "  \n",
        "**Explain how each party is viewed in the public eye based on the sentiment value**  \n",
        "  \n",
        "From the result, Conservative party seems have the most support as the number of tweets about it is the most. Although Conservative party has the most negetive tweets, it still does not contradict as if the party gets more attention, against voices will also increases.  \n",
        "The numbers of positive tweets of Liberal is almost 16 times with the number of negetive tweets. Thus, Liberal seems have a good reputation among people.  \n",
        "In public eye, PPC is also not bad, from the graph, the number of negative tweets is around 10, while the number of positive tweets is around 80, 8 times of the negative amount. Thus, PPC may have many supporters.   \n",
        "NDP attracts the least attention since the number of tweets about the party is the least.   \n",
        "  \n",
        "**Suggest one way you can improve the accuracy of this model**   \n",
        "  \n",
        "I think the hyperparameters of the model can be tuned. Because the model here is a general linear SVC model with all default parameters. If the parameters can be tuned, the model will have a higher accuracy.  \n",
        "  \n"
      ],
      "metadata": {
        "id": "KWPkk75nvd7B"
      },
      "id": "KWPkk75nvd7B"
    },
    {
      "cell_type": "markdown",
      "metadata": {
        "id": "ziLzUUl03-tb"
      },
      "source": [
        "## 4 Negative Reason Classification"
      ],
      "id": "ziLzUUl03-tb"
    },
    {
      "cell_type": "code",
      "execution_count": null,
      "metadata": {
        "id": "Jyn9gMZg398A"
      },
      "outputs": [],
      "source": [
        "# Filter the negative reasons\n",
        "df_neg = df_ce.loc[df_ce['sentiment']=='negative']\n",
        "negative_reason = pd.DataFrame({'Negative Reason':df_neg['negative_reason'].unique()},columns=['Negative Reason'])\n",
        "# Encode the reason (11 in total)\n",
        "lb = LabelEncoder() \n",
        "df_neg['negative_reason_label'] = lb.fit_transform(df_neg['negative_reason'])\n",
        "negative_reason['Negative Reason Label'] = lb.fit_transform(negative_reason['Negative Reason'])\n",
        "X_neg = df_neg['text_cleaned']\n",
        "target = df_neg['negative_reason_label']"
      ],
      "id": "Jyn9gMZg398A"
    },
    {
      "cell_type": "code",
      "execution_count": null,
      "metadata": {
        "id": "z0_mm-Jd98b6"
      },
      "outputs": [],
      "source": [
        "# Split the train/test set\n",
        "X_train, X_test, target_train, target_test = train_test_split(X_neg,target,test_size=0.3,random_state=50)"
      ],
      "id": "z0_mm-Jd98b6"
    },
    {
      "cell_type": "code",
      "source": [
        "# Use TF-IDF to prepare the data\n",
        "X_reason_train = vectorizer_tfidf.transform(X_train)\n",
        "X_reason_test = vectorizer_tfidf.transform(X_test)"
      ],
      "metadata": {
        "id": "xZlNKFDRX87L"
      },
      "id": "xZlNKFDRX87L",
      "execution_count": null,
      "outputs": []
    },
    {
      "cell_type": "code",
      "source": [
        "# Fit a multiclass logistic regression\n",
        "lr_reason = LogisticRegression(multi_class=\"multinomial\", random_state=50)\n",
        "lr_reason.fit(X_reason_train,target_train)\n",
        "target_pred = lr_reason.predict(X_reason_test)\n",
        "acc_reason = accuracy_score(target_test,target_pred)\n",
        "print(\"The accuracy score for Multiclass Logistic Regression Model on Negative Reason of Canadian Elections data is {:.3f}\".format(acc_reason))"
      ],
      "metadata": {
        "colab": {
          "base_uri": "https://localhost:8080/"
        },
        "id": "0DeulxTKU35G",
        "outputId": "61bd4f84-d447-4de7-fb2f-a125fcc4a1f9"
      },
      "id": "0DeulxTKU35G",
      "execution_count": null,
      "outputs": [
        {
          "output_type": "stream",
          "name": "stdout",
          "text": [
            "The accuracy score for Multiclass Logistic Regression Model on Negative Reason of Canadian Elections data is 0.436\n"
          ]
        }
      ]
    },
    {
      "cell_type": "code",
      "source": [
        "# Tune parameters with GridSearchCV\n",
        "parameters = {'C':[0.01, 0.1, 1.0, 10.0, 100.0],\n",
        "              'solver':['lbfgs', 'sag', 'saga', 'newton-cg']}\n",
        "gs = GridSearchCV(lr_reason, parameters,cv=2,scoring='accuracy')\n",
        "gs.fit(X_reason_train,target_train)\n",
        "gs.best_params_"
      ],
      "metadata": {
        "colab": {
          "base_uri": "https://localhost:8080/"
        },
        "id": "OOZw_NnCY_ts",
        "outputId": "bd9cd1b2-de01-4bba-9e3b-8047a521b2ea"
      },
      "id": "OOZw_NnCY_ts",
      "execution_count": null,
      "outputs": [
        {
          "output_type": "execute_result",
          "data": {
            "text/plain": [
              "{'C': 10.0, 'solver': 'lbfgs'}"
            ]
          },
          "metadata": {},
          "execution_count": 63
        }
      ]
    },
    {
      "cell_type": "code",
      "source": [
        "target_pred = gs.predict(X_reason_test)\n",
        "print(classification_report(target_test,target_pred))"
      ],
      "metadata": {
        "colab": {
          "base_uri": "https://localhost:8080/"
        },
        "id": "C1EW__WEcPdi",
        "outputId": "6f9b47f8-b033-486a-9f6a-687e27dca74a"
      },
      "id": "C1EW__WEcPdi",
      "execution_count": null,
      "outputs": [
        {
          "output_type": "stream",
          "name": "stdout",
          "text": [
            "              precision    recall  f1-score   support\n",
            "\n",
            "           0       0.54      0.57      0.55        23\n",
            "           1       1.00      0.33      0.50         3\n",
            "           2       1.00      0.10      0.18        10\n",
            "           3       1.00      0.12      0.22         8\n",
            "           4       0.25      0.50      0.33         2\n",
            "           5       0.00      0.00      0.00         3\n",
            "           6       0.43      0.76      0.55        41\n",
            "           7       0.00      0.00      0.00         7\n",
            "           8       0.00      0.00      0.00         1\n",
            "           9       0.14      0.11      0.12        18\n",
            "          10       0.00      0.00      0.00         1\n",
            "\n",
            "    accuracy                           0.43       117\n",
            "   macro avg       0.40      0.23      0.22       117\n",
            "weighted avg       0.46      0.43      0.37       117\n",
            "\n"
          ]
        }
      ]
    },
    {
      "cell_type": "markdown",
      "source": [
        "The test accuracy score for Best Performance Multiclass Logistic Regression Model on Negative Reason of Canadian Elections data is 0.43"
      ],
      "metadata": {
        "id": "QOXBP2ktF-k-"
      },
      "id": "QOXBP2ktF-k-"
    },
    {
      "cell_type": "markdown",
      "source": [
        "### a) Reason why model fail to predict the correct negative reasons"
      ],
      "metadata": {
        "id": "yC5oK2zBgbVC"
      },
      "id": "yC5oK2zBgbVC"
    },
    {
      "cell_type": "code",
      "source": [
        "df_neg['negative_reason'].value_counts()"
      ],
      "metadata": {
        "colab": {
          "base_uri": "https://localhost:8080/"
        },
        "id": "EPnw_FbfghrQ",
        "outputId": "1566cd0f-6e21-44bd-a0c6-d5f7c8968479"
      },
      "id": "EPnw_FbfghrQ",
      "execution_count": null,
      "outputs": [
        {
          "output_type": "execute_result",
          "data": {
            "text/plain": [
              "others                                 149\n",
              "calling election early                  73\n",
              "tell lies                               61\n",
              "covid                                   25\n",
              "economy                                 20\n",
              "gun control                             16\n",
              "climate problem                         15\n",
              "scandal                                 14\n",
              "healthcare and marijuana                 7\n",
              "women reproductive right and racism      4\n",
              "segregation                              3\n",
              "Name: negative_reason, dtype: int64"
            ]
          },
          "metadata": {},
          "execution_count": 65
        }
      ]
    },
    {
      "cell_type": "code",
      "source": [
        "negative_reason"
      ],
      "metadata": {
        "colab": {
          "base_uri": "https://localhost:8080/",
          "height": 390
        },
        "id": "p7kCwjiUgB6c",
        "outputId": "7e94b266-57cb-497e-8715-30b064f0e2af"
      },
      "id": "p7kCwjiUgB6c",
      "execution_count": null,
      "outputs": [
        {
          "output_type": "execute_result",
          "data": {
            "text/plain": [
              "                        Negative Reason  Negative Reason Label\n",
              "0                calling election early                      0\n",
              "1                                covid                       2\n",
              "2                                others                      6\n",
              "3                               scandal                      7\n",
              "4                             tell lies                      9\n",
              "5                           gun control                      4\n",
              "6                               economy                      3\n",
              "7              healthcare and marijuana                      5\n",
              "8                           segregation                      8\n",
              "9   women reproductive right and racism                     10\n",
              "10                      climate problem                      1"
            ],
            "text/html": [
              "\n",
              "  <div id=\"df-7575cae3-7eec-4d0d-aece-5412e5ea1e13\">\n",
              "    <div class=\"colab-df-container\">\n",
              "      <div>\n",
              "<style scoped>\n",
              "    .dataframe tbody tr th:only-of-type {\n",
              "        vertical-align: middle;\n",
              "    }\n",
              "\n",
              "    .dataframe tbody tr th {\n",
              "        vertical-align: top;\n",
              "    }\n",
              "\n",
              "    .dataframe thead th {\n",
              "        text-align: right;\n",
              "    }\n",
              "</style>\n",
              "<table border=\"1\" class=\"dataframe\">\n",
              "  <thead>\n",
              "    <tr style=\"text-align: right;\">\n",
              "      <th></th>\n",
              "      <th>Negative Reason</th>\n",
              "      <th>Negative Reason Label</th>\n",
              "    </tr>\n",
              "  </thead>\n",
              "  <tbody>\n",
              "    <tr>\n",
              "      <th>0</th>\n",
              "      <td>calling election early</td>\n",
              "      <td>0</td>\n",
              "    </tr>\n",
              "    <tr>\n",
              "      <th>1</th>\n",
              "      <td>covid</td>\n",
              "      <td>2</td>\n",
              "    </tr>\n",
              "    <tr>\n",
              "      <th>2</th>\n",
              "      <td>others</td>\n",
              "      <td>6</td>\n",
              "    </tr>\n",
              "    <tr>\n",
              "      <th>3</th>\n",
              "      <td>scandal</td>\n",
              "      <td>7</td>\n",
              "    </tr>\n",
              "    <tr>\n",
              "      <th>4</th>\n",
              "      <td>tell lies</td>\n",
              "      <td>9</td>\n",
              "    </tr>\n",
              "    <tr>\n",
              "      <th>5</th>\n",
              "      <td>gun control</td>\n",
              "      <td>4</td>\n",
              "    </tr>\n",
              "    <tr>\n",
              "      <th>6</th>\n",
              "      <td>economy</td>\n",
              "      <td>3</td>\n",
              "    </tr>\n",
              "    <tr>\n",
              "      <th>7</th>\n",
              "      <td>healthcare and marijuana</td>\n",
              "      <td>5</td>\n",
              "    </tr>\n",
              "    <tr>\n",
              "      <th>8</th>\n",
              "      <td>segregation</td>\n",
              "      <td>8</td>\n",
              "    </tr>\n",
              "    <tr>\n",
              "      <th>9</th>\n",
              "      <td>women reproductive right and racism</td>\n",
              "      <td>10</td>\n",
              "    </tr>\n",
              "    <tr>\n",
              "      <th>10</th>\n",
              "      <td>climate problem</td>\n",
              "      <td>1</td>\n",
              "    </tr>\n",
              "  </tbody>\n",
              "</table>\n",
              "</div>\n",
              "      <button class=\"colab-df-convert\" onclick=\"convertToInteractive('df-7575cae3-7eec-4d0d-aece-5412e5ea1e13')\"\n",
              "              title=\"Convert this dataframe to an interactive table.\"\n",
              "              style=\"display:none;\">\n",
              "        \n",
              "  <svg xmlns=\"http://www.w3.org/2000/svg\" height=\"24px\"viewBox=\"0 0 24 24\"\n",
              "       width=\"24px\">\n",
              "    <path d=\"M0 0h24v24H0V0z\" fill=\"none\"/>\n",
              "    <path d=\"M18.56 5.44l.94 2.06.94-2.06 2.06-.94-2.06-.94-.94-2.06-.94 2.06-2.06.94zm-11 1L8.5 8.5l.94-2.06 2.06-.94-2.06-.94L8.5 2.5l-.94 2.06-2.06.94zm10 10l.94 2.06.94-2.06 2.06-.94-2.06-.94-.94-2.06-.94 2.06-2.06.94z\"/><path d=\"M17.41 7.96l-1.37-1.37c-.4-.4-.92-.59-1.43-.59-.52 0-1.04.2-1.43.59L10.3 9.45l-7.72 7.72c-.78.78-.78 2.05 0 2.83L4 21.41c.39.39.9.59 1.41.59.51 0 1.02-.2 1.41-.59l7.78-7.78 2.81-2.81c.8-.78.8-2.07 0-2.86zM5.41 20L4 18.59l7.72-7.72 1.47 1.35L5.41 20z\"/>\n",
              "  </svg>\n",
              "      </button>\n",
              "      \n",
              "  <style>\n",
              "    .colab-df-container {\n",
              "      display:flex;\n",
              "      flex-wrap:wrap;\n",
              "      gap: 12px;\n",
              "    }\n",
              "\n",
              "    .colab-df-convert {\n",
              "      background-color: #E8F0FE;\n",
              "      border: none;\n",
              "      border-radius: 50%;\n",
              "      cursor: pointer;\n",
              "      display: none;\n",
              "      fill: #1967D2;\n",
              "      height: 32px;\n",
              "      padding: 0 0 0 0;\n",
              "      width: 32px;\n",
              "    }\n",
              "\n",
              "    .colab-df-convert:hover {\n",
              "      background-color: #E2EBFA;\n",
              "      box-shadow: 0px 1px 2px rgba(60, 64, 67, 0.3), 0px 1px 3px 1px rgba(60, 64, 67, 0.15);\n",
              "      fill: #174EA6;\n",
              "    }\n",
              "\n",
              "    [theme=dark] .colab-df-convert {\n",
              "      background-color: #3B4455;\n",
              "      fill: #D2E3FC;\n",
              "    }\n",
              "\n",
              "    [theme=dark] .colab-df-convert:hover {\n",
              "      background-color: #434B5C;\n",
              "      box-shadow: 0px 1px 3px 1px rgba(0, 0, 0, 0.15);\n",
              "      filter: drop-shadow(0px 1px 2px rgba(0, 0, 0, 0.3));\n",
              "      fill: #FFFFFF;\n",
              "    }\n",
              "  </style>\n",
              "\n",
              "      <script>\n",
              "        const buttonEl =\n",
              "          document.querySelector('#df-7575cae3-7eec-4d0d-aece-5412e5ea1e13 button.colab-df-convert');\n",
              "        buttonEl.style.display =\n",
              "          google.colab.kernel.accessAllowed ? 'block' : 'none';\n",
              "\n",
              "        async function convertToInteractive(key) {\n",
              "          const element = document.querySelector('#df-7575cae3-7eec-4d0d-aece-5412e5ea1e13');\n",
              "          const dataTable =\n",
              "            await google.colab.kernel.invokeFunction('convertToInteractive',\n",
              "                                                     [key], {});\n",
              "          if (!dataTable) return;\n",
              "\n",
              "          const docLinkHtml = 'Like what you see? Visit the ' +\n",
              "            '<a target=\"_blank\" href=https://colab.research.google.com/notebooks/data_table.ipynb>data table notebook</a>'\n",
              "            + ' to learn more about interactive tables.';\n",
              "          element.innerHTML = '';\n",
              "          dataTable['output_type'] = 'display_data';\n",
              "          await google.colab.output.renderOutput(dataTable, element);\n",
              "          const docLink = document.createElement('div');\n",
              "          docLink.innerHTML = docLinkHtml;\n",
              "          element.appendChild(docLink);\n",
              "        }\n",
              "      </script>\n",
              "    </div>\n",
              "  </div>\n",
              "  "
            ]
          },
          "metadata": {},
          "execution_count": 66
        }
      ]
    },
    {
      "cell_type": "code",
      "source": [
        "target = pd.DataFrame({'True Reason': target_test.to_numpy(), \n",
        "                       'Predicted Reason': target_pred}, columns=['True Reason', 'Predicted Reason'])\n",
        "target.head(10)"
      ],
      "metadata": {
        "colab": {
          "base_uri": "https://localhost:8080/",
          "height": 359
        },
        "id": "Cq47X1eFd5xc",
        "outputId": "818c1769-dd90-43fc-ab84-bbef9354e9e3"
      },
      "id": "Cq47X1eFd5xc",
      "execution_count": null,
      "outputs": [
        {
          "output_type": "execute_result",
          "data": {
            "text/plain": [
              "   True Reason  Predicted Reason\n",
              "0            5                 9\n",
              "1            6                 6\n",
              "2            6                 0\n",
              "3            3                 6\n",
              "4            9                 6\n",
              "5            6                 6\n",
              "6            4                 4\n",
              "7            6                 9\n",
              "8            5                 9\n",
              "9            6                 6"
            ],
            "text/html": [
              "\n",
              "  <div id=\"df-c4aac1f1-93b9-4b69-b5da-e473f56f183b\">\n",
              "    <div class=\"colab-df-container\">\n",
              "      <div>\n",
              "<style scoped>\n",
              "    .dataframe tbody tr th:only-of-type {\n",
              "        vertical-align: middle;\n",
              "    }\n",
              "\n",
              "    .dataframe tbody tr th {\n",
              "        vertical-align: top;\n",
              "    }\n",
              "\n",
              "    .dataframe thead th {\n",
              "        text-align: right;\n",
              "    }\n",
              "</style>\n",
              "<table border=\"1\" class=\"dataframe\">\n",
              "  <thead>\n",
              "    <tr style=\"text-align: right;\">\n",
              "      <th></th>\n",
              "      <th>True Reason</th>\n",
              "      <th>Predicted Reason</th>\n",
              "    </tr>\n",
              "  </thead>\n",
              "  <tbody>\n",
              "    <tr>\n",
              "      <th>0</th>\n",
              "      <td>5</td>\n",
              "      <td>9</td>\n",
              "    </tr>\n",
              "    <tr>\n",
              "      <th>1</th>\n",
              "      <td>6</td>\n",
              "      <td>6</td>\n",
              "    </tr>\n",
              "    <tr>\n",
              "      <th>2</th>\n",
              "      <td>6</td>\n",
              "      <td>0</td>\n",
              "    </tr>\n",
              "    <tr>\n",
              "      <th>3</th>\n",
              "      <td>3</td>\n",
              "      <td>6</td>\n",
              "    </tr>\n",
              "    <tr>\n",
              "      <th>4</th>\n",
              "      <td>9</td>\n",
              "      <td>6</td>\n",
              "    </tr>\n",
              "    <tr>\n",
              "      <th>5</th>\n",
              "      <td>6</td>\n",
              "      <td>6</td>\n",
              "    </tr>\n",
              "    <tr>\n",
              "      <th>6</th>\n",
              "      <td>4</td>\n",
              "      <td>4</td>\n",
              "    </tr>\n",
              "    <tr>\n",
              "      <th>7</th>\n",
              "      <td>6</td>\n",
              "      <td>9</td>\n",
              "    </tr>\n",
              "    <tr>\n",
              "      <th>8</th>\n",
              "      <td>5</td>\n",
              "      <td>9</td>\n",
              "    </tr>\n",
              "    <tr>\n",
              "      <th>9</th>\n",
              "      <td>6</td>\n",
              "      <td>6</td>\n",
              "    </tr>\n",
              "  </tbody>\n",
              "</table>\n",
              "</div>\n",
              "      <button class=\"colab-df-convert\" onclick=\"convertToInteractive('df-c4aac1f1-93b9-4b69-b5da-e473f56f183b')\"\n",
              "              title=\"Convert this dataframe to an interactive table.\"\n",
              "              style=\"display:none;\">\n",
              "        \n",
              "  <svg xmlns=\"http://www.w3.org/2000/svg\" height=\"24px\"viewBox=\"0 0 24 24\"\n",
              "       width=\"24px\">\n",
              "    <path d=\"M0 0h24v24H0V0z\" fill=\"none\"/>\n",
              "    <path d=\"M18.56 5.44l.94 2.06.94-2.06 2.06-.94-2.06-.94-.94-2.06-.94 2.06-2.06.94zm-11 1L8.5 8.5l.94-2.06 2.06-.94-2.06-.94L8.5 2.5l-.94 2.06-2.06.94zm10 10l.94 2.06.94-2.06 2.06-.94-2.06-.94-.94-2.06-.94 2.06-2.06.94z\"/><path d=\"M17.41 7.96l-1.37-1.37c-.4-.4-.92-.59-1.43-.59-.52 0-1.04.2-1.43.59L10.3 9.45l-7.72 7.72c-.78.78-.78 2.05 0 2.83L4 21.41c.39.39.9.59 1.41.59.51 0 1.02-.2 1.41-.59l7.78-7.78 2.81-2.81c.8-.78.8-2.07 0-2.86zM5.41 20L4 18.59l7.72-7.72 1.47 1.35L5.41 20z\"/>\n",
              "  </svg>\n",
              "      </button>\n",
              "      \n",
              "  <style>\n",
              "    .colab-df-container {\n",
              "      display:flex;\n",
              "      flex-wrap:wrap;\n",
              "      gap: 12px;\n",
              "    }\n",
              "\n",
              "    .colab-df-convert {\n",
              "      background-color: #E8F0FE;\n",
              "      border: none;\n",
              "      border-radius: 50%;\n",
              "      cursor: pointer;\n",
              "      display: none;\n",
              "      fill: #1967D2;\n",
              "      height: 32px;\n",
              "      padding: 0 0 0 0;\n",
              "      width: 32px;\n",
              "    }\n",
              "\n",
              "    .colab-df-convert:hover {\n",
              "      background-color: #E2EBFA;\n",
              "      box-shadow: 0px 1px 2px rgba(60, 64, 67, 0.3), 0px 1px 3px 1px rgba(60, 64, 67, 0.15);\n",
              "      fill: #174EA6;\n",
              "    }\n",
              "\n",
              "    [theme=dark] .colab-df-convert {\n",
              "      background-color: #3B4455;\n",
              "      fill: #D2E3FC;\n",
              "    }\n",
              "\n",
              "    [theme=dark] .colab-df-convert:hover {\n",
              "      background-color: #434B5C;\n",
              "      box-shadow: 0px 1px 3px 1px rgba(0, 0, 0, 0.15);\n",
              "      filter: drop-shadow(0px 1px 2px rgba(0, 0, 0, 0.3));\n",
              "      fill: #FFFFFF;\n",
              "    }\n",
              "  </style>\n",
              "\n",
              "      <script>\n",
              "        const buttonEl =\n",
              "          document.querySelector('#df-c4aac1f1-93b9-4b69-b5da-e473f56f183b button.colab-df-convert');\n",
              "        buttonEl.style.display =\n",
              "          google.colab.kernel.accessAllowed ? 'block' : 'none';\n",
              "\n",
              "        async function convertToInteractive(key) {\n",
              "          const element = document.querySelector('#df-c4aac1f1-93b9-4b69-b5da-e473f56f183b');\n",
              "          const dataTable =\n",
              "            await google.colab.kernel.invokeFunction('convertToInteractive',\n",
              "                                                     [key], {});\n",
              "          if (!dataTable) return;\n",
              "\n",
              "          const docLinkHtml = 'Like what you see? Visit the ' +\n",
              "            '<a target=\"_blank\" href=https://colab.research.google.com/notebooks/data_table.ipynb>data table notebook</a>'\n",
              "            + ' to learn more about interactive tables.';\n",
              "          element.innerHTML = '';\n",
              "          dataTable['output_type'] = 'display_data';\n",
              "          await google.colab.output.renderOutput(dataTable, element);\n",
              "          const docLink = document.createElement('div');\n",
              "          docLink.innerHTML = docLinkHtml;\n",
              "          element.appendChild(docLink);\n",
              "        }\n",
              "      </script>\n",
              "    </div>\n",
              "  </div>\n",
              "  "
            ]
          },
          "metadata": {},
          "execution_count": 67
        }
      ]
    },
    {
      "cell_type": "markdown",
      "source": [
        "I think the reason that my model fails is because the target column ['Negative Reason'] is not balanced, the number of 'others' are much more than other reasons. So from the above table, most negative reasons of tweets are predicted to be 'others'. "
      ],
      "metadata": {
        "id": "zyDg06PDHsq6"
      },
      "id": "zyDg06PDHsq6"
    },
    {
      "cell_type": "markdown",
      "source": [
        "### b) One Suggestion to improve the accuracy"
      ],
      "metadata": {
        "id": "LsymhNK2gjZD"
      },
      "id": "LsymhNK2gjZD"
    },
    {
      "cell_type": "markdown",
      "source": [
        "I think that I can tune more parameters and with more tries in the grid search to get a better model. Or combined some reasons with lower numbers to one to get a more balanced data."
      ],
      "metadata": {
        "id": "zV_Om33YIGyI"
      },
      "id": "zV_Om33YIGyI"
    },
    {
      "cell_type": "markdown",
      "source": [
        "### c) Combine similar reasons and justify"
      ],
      "metadata": {
        "id": "S3kj8ehKgpcn"
      },
      "id": "S3kj8ehKgpcn"
    },
    {
      "cell_type": "code",
      "source": [
        "# Combine the reasons\n",
        "other = ['others']\n",
        "candidate_behaviour = ['calling election early','tell lies','scandal'] # Reasons due to candidates' behaviour\n",
        "# Reasons about people rights or freedom\n",
        "right_issue = ['gun control','women reproductive right and racism','segregation','healthcare and marijuana']\n",
        "# Reasons that affect the whole country or society\n",
        "society_issue = ['covid ','economy','climate problem']"
      ],
      "metadata": {
        "id": "ChrciRHygGaP"
      },
      "id": "ChrciRHygGaP",
      "execution_count": null,
      "outputs": []
    },
    {
      "cell_type": "code",
      "source": [
        "# Replace the reasons\n",
        "df_neg['negative_reason_new'] = df_neg['negative_reason'].replace(['others','calling election early','tell lies','scandal',\n",
        "                                                                   'gun control','women reproductive right and racism','segregation',\n",
        "                                                                   'healthcare and marijuana', 'covid ','economy','climate problem'],\n",
        "                                                                  ['other','candidate behaviour','candidate behaviour','candidate behaviour',\n",
        "                                                                   'right issue','right issue','right issue',\n",
        "                                                                   'right issue','society issue','society issue','society issue'])"
      ],
      "metadata": {
        "id": "4y334F3EiSRL"
      },
      "id": "4y334F3EiSRL",
      "execution_count": null,
      "outputs": []
    },
    {
      "cell_type": "code",
      "source": [
        "# New reason groups count\n",
        "df_neg['negative_reason_new'].value_counts()"
      ],
      "metadata": {
        "colab": {
          "base_uri": "https://localhost:8080/"
        },
        "id": "0qCbjubGuaz-",
        "outputId": "b3c1756b-113d-4323-f332-ce586b165908"
      },
      "id": "0qCbjubGuaz-",
      "execution_count": null,
      "outputs": [
        {
          "output_type": "execute_result",
          "data": {
            "text/plain": [
              "other                  149\n",
              "candidate behaviour    148\n",
              "society issue           60\n",
              "right issue             30\n",
              "Name: negative_reason_new, dtype: int64"
            ]
          },
          "metadata": {},
          "execution_count": 70
        }
      ]
    },
    {
      "cell_type": "code",
      "source": [
        "# Encode new reasons\n",
        "lb = LabelEncoder() \n",
        "df_neg['negative_reason_label_new'] = lb.fit_transform(df_neg['negative_reason_new'])\n",
        "X_neg = df_neg['text_cleaned']\n",
        "target = df_neg['negative_reason_label_new']"
      ],
      "metadata": {
        "id": "X3Ye0UnQjl05"
      },
      "id": "X3Ye0UnQjl05",
      "execution_count": null,
      "outputs": []
    },
    {
      "cell_type": "code",
      "source": [
        "# Split training/test set\n",
        "X_train, X_test, target_train, target_test = train_test_split(X_neg,target,test_size=0.3,random_state=50)"
      ],
      "metadata": {
        "id": "w2CaRqtTkhJ-"
      },
      "id": "w2CaRqtTkhJ-",
      "execution_count": null,
      "outputs": []
    },
    {
      "cell_type": "code",
      "source": [
        "# Apply Bag-of-Words\n",
        "X_reason_train = bag_of_words.transform(X_train)\n",
        "X_reason_test = bag_of_words.transform(X_test)"
      ],
      "metadata": {
        "id": "vN4sjnXfknCc"
      },
      "id": "vN4sjnXfknCc",
      "execution_count": null,
      "outputs": []
    },
    {
      "cell_type": "code",
      "source": [
        "# Apply TF-IDF\n",
        "X_reason_train_tf = vectorizer_tfidf.transform(X_train)\n",
        "X_reason_test_tf = vectorizer_tfidf.transform(X_test)"
      ],
      "metadata": {
        "id": "Bgmvz1y8xZvP"
      },
      "id": "Bgmvz1y8xZvP",
      "execution_count": null,
      "outputs": []
    },
    {
      "cell_type": "code",
      "source": [
        "# Train model and Tuning Hyperparameters (BOW)\n",
        "lr_reason = LogisticRegression(multi_class=\"multinomial\", random_state=50)\n",
        "parameters = {'C':[0.001, 0.01, 0.1, 1.0, 10.0, 100.0, 1000.0],\n",
        "              'solver':['lbfgs', 'sag', 'saga', 'newton-cg'],\n",
        "              'class_weight':[None,'balanced'],\n",
        "              'penalty':['l1', 'l2', 'elasticnet', 'none']}\n",
        "gs = GridSearchCV(lr_reason, parameters,cv=2,scoring='accuracy')\n",
        "gs.fit(X_reason_train,target_train)\n",
        "gs.best_params_"
      ],
      "metadata": {
        "colab": {
          "base_uri": "https://localhost:8080/"
        },
        "id": "xI3VDpO3v6bU",
        "outputId": "93e31d44-2f40-4903-c5e8-8692ff747272"
      },
      "id": "xI3VDpO3v6bU",
      "execution_count": null,
      "outputs": [
        {
          "output_type": "execute_result",
          "data": {
            "text/plain": [
              "{'C': 1.0, 'class_weight': None, 'penalty': 'l1', 'solver': 'saga'}"
            ]
          },
          "metadata": {},
          "execution_count": 75
        }
      ]
    },
    {
      "cell_type": "code",
      "source": [
        "target_pred = gs.predict(X_reason_test)\n",
        "acc_reason = accuracy_score(target_test,target_pred)\n",
        "print(\"The accuracy score for Multiclass Logistic Regression on Negative Reason of Canadian Elections data is {:.3f}\".format(acc_reason))"
      ],
      "metadata": {
        "colab": {
          "base_uri": "https://localhost:8080/"
        },
        "id": "6nFubwsWkv2t",
        "outputId": "156dc35c-fb5c-473c-e1cc-6a13d4d65ff9"
      },
      "id": "6nFubwsWkv2t",
      "execution_count": null,
      "outputs": [
        {
          "output_type": "stream",
          "name": "stdout",
          "text": [
            "The accuracy score for Multiclass Logistic Regression on Negative Reason of Canadian Elections data is 0.504\n"
          ]
        }
      ]
    },
    {
      "cell_type": "code",
      "source": [
        "# Train model and Tuning Hyperparameters (TF-IDF)\n",
        "lr_reason = LogisticRegression(multi_class=\"multinomial\", random_state=50)\n",
        "parameters = {'C':[0.001, 0.01, 0.1, 1.0, 10.0, 100.0, 1000.0],\n",
        "              'solver':['lbfgs', 'sag', 'saga', 'newton-cg'],\n",
        "              'class_weight':[None,'balanced'],\n",
        "              'penalty':['l1', 'l2', 'elasticnet', 'none']}\n",
        "gs = GridSearchCV(lr_reason, parameters,cv=2,scoring='accuracy')\n",
        "gs.fit(X_reason_train_tf,target_train)\n",
        "gs.best_params_"
      ],
      "metadata": {
        "colab": {
          "base_uri": "https://localhost:8080/"
        },
        "id": "izody0UgxgnK",
        "outputId": "257a58b3-113e-45d1-f457-95f1a47e5798"
      },
      "id": "izody0UgxgnK",
      "execution_count": null,
      "outputs": [
        {
          "output_type": "execute_result",
          "data": {
            "text/plain": [
              "{'C': 0.001, 'class_weight': None, 'penalty': 'none', 'solver': 'lbfgs'}"
            ]
          },
          "metadata": {},
          "execution_count": 77
        }
      ]
    },
    {
      "cell_type": "code",
      "source": [
        "target_pred = gs.predict(X_reason_test_tf)\n",
        "acc_reason = accuracy_score(target_test,target_pred)\n",
        "print(\"The accuracy score for Multiclass Logistic Regression on Negative Reason of Canadian Elections data is {:.3f}\".format(acc_reason))"
      ],
      "metadata": {
        "colab": {
          "base_uri": "https://localhost:8080/"
        },
        "id": "vEcBkNpTxi4Z",
        "outputId": "ddc6464f-f6b0-4560-9b9b-d034aeb95779"
      },
      "id": "vEcBkNpTxi4Z",
      "execution_count": null,
      "outputs": [
        {
          "output_type": "stream",
          "name": "stdout",
          "text": [
            "The accuracy score for Multiclass Logistic Regression on Negative Reason of Canadian Elections data is 0.513\n"
          ]
        }
      ]
    },
    {
      "cell_type": "markdown",
      "source": [
        "After combining the reasons, the new model with best performance after tuning has a test accuracy on Negative Reason of Canadian Elections data is 0.513. For this model, using TF-IDF to prepare the data."
      ],
      "metadata": {
        "id": "fucxhR0eJmNR"
      },
      "id": "fucxhR0eJmNR"
    }
  ],
  "metadata": {
    "colab": {
      "collapsed_sections": [
        "64ca5f49",
        "ac3668d7",
        "fOS-OMIxrj1Q",
        "ijyhC_FxfeWP",
        "5b1aee24",
        "1AJOVZpHE66K",
        "0f040454",
        "985ef80e",
        "qeZk-bH90OPL",
        "Pf6qW_ZZWP-3"
      ],
      "name": "jiang_1003848189_finalproject.ipynb",
      "provenance": [],
      "machine_shape": "hm"
    },
    "kernelspec": {
      "display_name": "Python 3 (ipykernel)",
      "language": "python",
      "name": "python3"
    },
    "language_info": {
      "codemirror_mode": {
        "name": "ipython",
        "version": 3
      },
      "file_extension": ".py",
      "mimetype": "text/x-python",
      "name": "python",
      "nbconvert_exporter": "python",
      "pygments_lexer": "ipython3",
      "version": "3.9.7"
    }
  },
  "nbformat": 4,
  "nbformat_minor": 5
}